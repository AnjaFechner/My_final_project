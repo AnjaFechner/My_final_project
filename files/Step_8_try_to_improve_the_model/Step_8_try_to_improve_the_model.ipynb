{
 "cells": [
  {
   "cell_type": "markdown",
   "id": "civil-serbia",
   "metadata": {},
   "source": [
    "### 8.0. Libraries"
   ]
  },
  {
   "cell_type": "code",
   "execution_count": null,
   "id": "european-poetry",
   "metadata": {},
   "outputs": [],
   "source": [
    "import pandas as pd\n",
    "import numpy as np\n",
    "import matplotlib.pyplot as plt\n",
    "import seaborn as sns \n",
    "#NLP\n",
    "from textblob import TextBlob\n",
    "#Random Forest model -> subervised learning\n",
    "# new scaler\n",
    "from sklearn.preprocessing import MinMaxScaler# sensitive against outliers\n",
    "from sklearn.preprocessing import Normalizer\n",
    "from sklearn.preprocessing import PowerTransformer #yeo-method if data negativ\n",
    "#Random Forest Model and Logistic Regression\n",
    "from sklearn.model_selection import train_test_split\n",
    "from sklearn.ensemble import RandomForestRegressor\n",
    "from sklearn.linear_model import LogisticRegression\n",
    "from sklearn.metrics import mean_squared_error, r2_score\n",
    "from sklearn.datasets import load_boston\n",
    "from sklearn import tree\n",
    "import math \n",
    "#Visualization of Random Forest\n",
    "from dtreeviz.trees import dtreeviz"
   ]
  },
  {
   "cell_type": "markdown",
   "id": "royal-collectible",
   "metadata": {},
   "source": [
    "### 8.1. Reade the File (books and movie)"
   ]
  },
  {
   "cell_type": "code",
   "execution_count": null,
   "id": "elementary-curve",
   "metadata": {},
   "outputs": [],
   "source": [
    "df1 = pd.read_excel(r'C:\\Users\\AnjaF\\Desktop\\My_final_project\\files\\Step_7_apply_NLP_and_Random_Forest\\dataset_random_forest_model.xlsx')"
   ]
  },
  {
   "cell_type": "code",
   "execution_count": null,
   "id": "polar-construction",
   "metadata": {},
   "outputs": [],
   "source": [
    "df1.head()"
   ]
  },
  {
   "cell_type": "code",
   "execution_count": null,
   "id": "stone-ability",
   "metadata": {},
   "outputs": [],
   "source": [
    "#delete the columns \"index\" and \"Averrage\"\n",
    "df1= df1.drop(columns=[\"index\", \"Average\"])"
   ]
  },
  {
   "cell_type": "code",
   "execution_count": null,
   "id": "indirect-recovery",
   "metadata": {},
   "outputs": [],
   "source": [
    "df1.info()"
   ]
  },
  {
   "cell_type": "code",
   "execution_count": null,
   "id": "eastern-story",
   "metadata": {},
   "outputs": [],
   "source": [
    "df1[\"Book_into_Movie\"].value_counts()"
   ]
  },
  {
   "cell_type": "markdown",
   "id": "medical-mathematics",
   "metadata": {},
   "source": [
    "### 8.2. 1. Improvement -> Apply Random Forest model (use MinMaxScaler())"
   ]
  },
  {
   "cell_type": "markdown",
   "id": "russian-mentor",
   "metadata": {},
   "source": [
    "- *Split the data in \"Names\" of the book*\n",
    "- *\"Author\" of the books\n",
    "- *the independent variables X*\n",
    "- *the target variable y (=Book_into_Movie)*"
   ]
  },
  {
   "cell_type": "code",
   "execution_count": null,
   "id": "useful-million",
   "metadata": {},
   "outputs": [],
   "source": [
    "Name1 = df1.Name\n",
    "Author1 = df1.Author\n",
    "y1 = df1.Book_into_Movie\n",
    "X1 = df1.drop(columns=[\"Author\", \"Name\", \"Book_into_Movie\"])"
   ]
  },
  {
   "cell_type": "markdown",
   "id": "technological-liabilities",
   "metadata": {},
   "source": [
    "- *Scaling the Data* -> MinMaxScaler"
   ]
  },
  {
   "cell_type": "code",
   "execution_count": null,
   "id": "incoming-turtle",
   "metadata": {},
   "outputs": [],
   "source": [
    "# use an other Scaler is a possibility to improve the model\n",
    "# use the  MinMaxScaler().fit_transform(X)),\n",
    "scaler1 = MinMaxScaler()\n",
    "X1_scaled = scaler1.fit_transform(X1)"
   ]
  },
  {
   "cell_type": "markdown",
   "id": "specified-israeli",
   "metadata": {},
   "source": [
    "- *define Training-dataset and Test-dataset*"
   ]
  },
  {
   "cell_type": "code",
   "execution_count": null,
   "id": "tested-major",
   "metadata": {},
   "outputs": [],
   "source": [
    "# my dataset consist of 580 rows the books which are movies ->corresponds to 10 percent on the whole set\n",
    "# at first: test size at first 10 %\n",
    "X1_train, X1_test, y1_train, y1_test = train_test_split(X1_scaled, y1, test_size=0.1, random_state=40)"
   ]
  },
  {
   "cell_type": "code",
   "execution_count": null,
   "id": "nervous-portrait",
   "metadata": {},
   "outputs": [],
   "source": [
    "regressor1 = RandomForestRegressor(n_estimators=10, max_depth=3)\n",
    "model1 = regressor1.fit(X1_train,y1_train)  \n",
    "predictions1  = model1.predict(X1_test)\n",
    "print('Prediction Random Forest:',predictions1)"
   ]
  },
  {
   "cell_type": "markdown",
   "id": "parliamentary-doctrine",
   "metadata": {},
   "source": [
    "- compare the values"
   ]
  },
  {
   "cell_type": "code",
   "execution_count": null,
   "id": "simple-handy",
   "metadata": {},
   "outputs": [],
   "source": [
    "y_values1 = pd.DataFrame({\"real_values\": y1_test, \"pred_values\": predictions1})\n",
    "y_values1"
   ]
  },
  {
   "cell_type": "markdown",
   "id": "female-cable",
   "metadata": {},
   "source": [
    "- *Visualization of Decision Tree*"
   ]
  },
  {
   "cell_type": "code",
   "execution_count": null,
   "id": "nonprofit-coverage",
   "metadata": {},
   "outputs": [],
   "source": [
    "plt.rcParams.update({'figure.figsize': (12.0, 8.0)})\n",
    "plt.rcParams.update({'font.size': 14})"
   ]
  },
  {
   "cell_type": "code",
   "execution_count": null,
   "id": "ruled-dancing",
   "metadata": {},
   "outputs": [],
   "source": [
    "RandomForestRegressor(bootstrap=True, ccp_alpha=0.0, criterion='mse',\n",
    "                      max_depth=3, max_features='auto', max_leaf_nodes=None,\n",
    "                      max_samples=None, min_impurity_decrease=0.0,\n",
    "                      min_impurity_split=None, min_samples_leaf=1,\n",
    "                      min_samples_split=2, min_weight_fraction_leaf=0.0,\n",
    "                      n_estimators=100, n_jobs=None, oob_score=False,\n",
    "                      random_state=None, verbose=0, warm_start=False)"
   ]
  },
  {
   "cell_type": "code",
   "execution_count": null,
   "id": "rural-annex",
   "metadata": {},
   "outputs": [],
   "source": [
    "plt.figure(figsize=(140,140))\n",
    "_ = tree.plot_tree(model.estimators_[0], feature_names=X1.columns, filled=True)"
   ]
  },
  {
   "cell_type": "markdown",
   "id": "cleared-thursday",
   "metadata": {},
   "source": [
    "- *Evaluation*"
   ]
  },
  {
   "cell_type": "code",
   "execution_count": null,
   "id": "hundred-kansas",
   "metadata": {},
   "outputs": [],
   "source": [
    "r1= r2_score(y1_test, predictions1)\n",
    "print(\"The R² is: \" + str(r1))\n",
    "\n",
    "mse1 = mean_squared_error(y1_test, predictions1)\n",
    "print(\"The mean squared error is: \" + str(mse1))\n",
    "\n",
    "rmse1 = math.sqrt(mse1)\n",
    "print(\"The root mean square error is: \" + str(rmse1))\n"
   ]
  },
  {
   "cell_type": "code",
   "execution_count": null,
   "id": "incorporate-entertainment",
   "metadata": {},
   "outputs": [],
   "source": [
    "# change StandardScaler -> MinMaxScaler\n",
    "#- Result: R², MSE and RMSE sunk"
   ]
  },
  {
   "cell_type": "markdown",
   "id": "desperate-hobby",
   "metadata": {},
   "source": [
    "### 8.2. 2. Improvement -> Apply Random Forest model (use Normalizer())"
   ]
  },
  {
   "cell_type": "markdown",
   "id": "sealed-stomach",
   "metadata": {},
   "source": [
    "- define the Variable"
   ]
  },
  {
   "cell_type": "code",
   "execution_count": null,
   "id": "environmental-stake",
   "metadata": {},
   "outputs": [],
   "source": [
    "Name2 = df1.Name\n",
    "Author2 = df1.Author\n",
    "y2 = df1.Book_into_Movie\n",
    "X2 = df1.drop(columns=[\"Author\", \"Name\", \"Book_into_Movie\"])"
   ]
  },
  {
   "cell_type": "markdown",
   "id": "mathematical-reset",
   "metadata": {},
   "source": [
    "- apply the scaler"
   ]
  },
  {
   "cell_type": "code",
   "execution_count": null,
   "id": "global-mainstream",
   "metadata": {},
   "outputs": [],
   "source": [
    "# use an other Scaler is a possibility to improve the model\n",
    "# Normalizer().fit_transform(X)\n",
    "scaler2 = Normalizer()\n",
    "X2_scaled = scaler2.fit_transform(X2)"
   ]
  },
  {
   "cell_type": "markdown",
   "id": "rising-processor",
   "metadata": {},
   "source": [
    "- defin Test- and Training - datatset"
   ]
  },
  {
   "cell_type": "code",
   "execution_count": null,
   "id": "meaningful-discount",
   "metadata": {},
   "outputs": [],
   "source": [
    "# my dataset consist of 580 rows the books which are movies ->corresponds to 10 percent on the whole set\n",
    "# at first: test size at first 10 %\n",
    "X2_train, X2_test, y2_train, y2_test = train_test_split(X2_scaled, y2, test_size=0.1, random_state=40)"
   ]
  },
  {
   "cell_type": "markdown",
   "id": "successful-renewal",
   "metadata": {},
   "source": [
    "- apply the Random Forest Model"
   ]
  },
  {
   "cell_type": "code",
   "execution_count": null,
   "id": "intermediate-september",
   "metadata": {},
   "outputs": [],
   "source": [
    "regressor2 = RandomForestRegressor(n_estimators=10, max_depth=3)\n",
    "model2 = regressor2.fit(X2_train,y2_train)  \n",
    "predictions2  = model2.predict(X2_test)\n",
    "print('Prediction Random Forest:',predictions2)"
   ]
  },
  {
   "cell_type": "markdown",
   "id": "statistical-destiny",
   "metadata": {},
   "source": [
    "- shows the real result and the predict result"
   ]
  },
  {
   "cell_type": "code",
   "execution_count": null,
   "id": "romance-tokyo",
   "metadata": {},
   "outputs": [],
   "source": [
    "y_values2 = pd.DataFrame({\"real_values\": y2_test, \"pred_values\": predictions2})\n",
    "y_values2"
   ]
  },
  {
   "cell_type": "markdown",
   "id": "bigger-affair",
   "metadata": {},
   "source": [
    "- visualization of the decision tree"
   ]
  },
  {
   "cell_type": "code",
   "execution_count": null,
   "id": "desperate-steam",
   "metadata": {},
   "outputs": [],
   "source": [
    "plt.rcParams.update({'figure.figsize': (12.0, 8.0)})\n",
    "plt.rcParams.update({'font.size': 14})\n",
    "\n",
    "RandomForestRegressor(bootstrap=True, ccp_alpha=0.0, criterion='mse',\n",
    "                      max_depth=3, max_features='auto', max_leaf_nodes=None,\n",
    "                      max_samples=None, min_impurity_decrease=0.0,\n",
    "                      min_impurity_split=None, min_samples_leaf=1,\n",
    "                      min_samples_split=2, min_weight_fraction_leaf=0.0,\n",
    "                      n_estimators=100, n_jobs=None, oob_score=False,\n",
    "                      random_state=None, verbose=0, warm_start=False)"
   ]
  },
  {
   "cell_type": "code",
   "execution_count": null,
   "id": "alleged-method",
   "metadata": {},
   "outputs": [],
   "source": [
    "plt.figure(figsize=(140,140))\n",
    "_ = tree.plot_tree(model.estimators_[0], feature_names=X2.columns, filled=True)"
   ]
  },
  {
   "cell_type": "markdown",
   "id": "common-sector",
   "metadata": {},
   "source": [
    "- Evaluation"
   ]
  },
  {
   "cell_type": "code",
   "execution_count": null,
   "id": "responsible-george",
   "metadata": {},
   "outputs": [],
   "source": [
    "r2= r2_score(y2_test, predictions2)\n",
    "print(\"The R² is: \" + str(r2))\n",
    "\n",
    "mse2 = mean_squared_error(y2_test, predictions2)\n",
    "print(\"The mean squared error is: \" + str(mse2))\n",
    "\n",
    "rmse2 = math.sqrt(mse2)\n",
    "print(\"The root mean square error is: \" + str(rmse2))"
   ]
  },
  {
   "cell_type": "markdown",
   "id": "accompanied-thirty",
   "metadata": {},
   "source": [
    "### 8.2. 3. Improvement -> Apply Random Forest model (use PowerTRansformer())"
   ]
  },
  {
   "cell_type": "markdown",
   "id": "bacterial-personal",
   "metadata": {},
   "source": [
    "- define the variables"
   ]
  },
  {
   "cell_type": "code",
   "execution_count": null,
   "id": "restricted-manitoba",
   "metadata": {},
   "outputs": [],
   "source": [
    "Name3 = df1.Name\n",
    "Author3 = df1.Author\n",
    "y3 = df1.Book_into_Movie\n",
    "X3 = df1.drop(columns=[\"Author\", \"Name\", \"Book_into_Movie\"])"
   ]
  },
  {
   "cell_type": "markdown",
   "id": "curious-communications",
   "metadata": {},
   "source": [
    "- use a scaler"
   ]
  },
  {
   "cell_type": "code",
   "execution_count": null,
   "id": "social-queens",
   "metadata": {},
   "outputs": [],
   "source": [
    "# use an other Scaler is a possibility to improve the model\n",
    "# PowerTransformer(method='box-cox').fit_transform(X)\n",
    "scaler3 = PowerTransformer(method='box-cox')\n",
    "X3_scaled = scaler3.fit_transform(X3)"
   ]
  },
  {
   "cell_type": "markdown",
   "id": "protective-jimmy",
   "metadata": {},
   "source": [
    "- define Training- and Test-dataset"
   ]
  },
  {
   "cell_type": "code",
   "execution_count": null,
   "id": "trained-christianity",
   "metadata": {},
   "outputs": [],
   "source": [
    "# my dataset consist of 580 rows the books which are movies ->corresponds to 10 percent on the whole set\n",
    "# at first: test size at first 10 %\n",
    "X3_train, X3_test, y3_train, y3_test = train_test_split(X3_scaled, y3, test_size=0.1, random_state=40)"
   ]
  },
  {
   "cell_type": "code",
   "execution_count": null,
   "id": "tribal-contact",
   "metadata": {},
   "outputs": [],
   "source": [
    "- apply the Random Forest-Model"
   ]
  },
  {
   "cell_type": "code",
   "execution_count": null,
   "id": "pleased-delivery",
   "metadata": {},
   "outputs": [],
   "source": [
    "regressor3 = RandomForestRegressor(n_estimators=10, max_depth=3)\n",
    "model3= regressor3.fit(X3_train,y3_train)  \n",
    "predictions3  = model3.predict(X3_test)\n",
    "print('Prediction Random Forest:',predictions3)"
   ]
  },
  {
   "cell_type": "markdown",
   "id": "after-occupation",
   "metadata": {},
   "source": [
    "- show the real results and the predicted results"
   ]
  },
  {
   "cell_type": "code",
   "execution_count": null,
   "id": "supposed-numbers",
   "metadata": {},
   "outputs": [],
   "source": [
    "y_values3 = pd.DataFrame({\"real_values\": y3_test, \"pred_values\": predictions3})\n",
    "y_values3"
   ]
  },
  {
   "cell_type": "markdown",
   "id": "excellent-chancellor",
   "metadata": {},
   "source": [
    "- visualization of the decision tree"
   ]
  },
  {
   "cell_type": "code",
   "execution_count": null,
   "id": "transsexual-marketplace",
   "metadata": {},
   "outputs": [],
   "source": [
    "plt.rcParams.update({'figure.figsize': (12.0, 8.0)})\n",
    "plt.rcParams.update({'font.size': 14})\n",
    "\n",
    "RandomForestRegressor(bootstrap=True, ccp_alpha=0.0, criterion='mse',\n",
    "                      max_depth=3, max_features='auto', max_leaf_nodes=None,\n",
    "                      max_samples=None, min_impurity_decrease=0.0,\n",
    "                      min_impurity_split=None, min_samples_leaf=1,\n",
    "                      min_samples_split=2, min_weight_fraction_leaf=0.0,\n",
    "                      n_estimators=100, n_jobs=None, oob_score=False,\n",
    "                      random_state=None, verbose=0, warm_start=False)"
   ]
  },
  {
   "cell_type": "code",
   "execution_count": null,
   "id": "massive-burns",
   "metadata": {},
   "outputs": [],
   "source": [
    "plt.figure(figsize=(140,140))\n",
    "_ = tree.plot_tree(model.estimators_[0], feature_names=X3.columns, filled=True)"
   ]
  },
  {
   "cell_type": "markdown",
   "id": "empirical-attraction",
   "metadata": {},
   "source": [
    "- evaluation"
   ]
  },
  {
   "cell_type": "code",
   "execution_count": null,
   "id": "literary-stuff",
   "metadata": {},
   "outputs": [],
   "source": [
    "r3= r2_score(y3_test, predictions3)\n",
    "print(\"The R² is: \" + str(r3))\n",
    "\n",
    "mse3 = mean_squared_error(y3_test, predictions3)\n",
    "print(\"The mean squared error is: \" + str(mse3))\n",
    "\n",
    "rmse3 = math.sqrt(mse3)\n",
    "print(\"The root mean square error is: \" + str(rmse3))"
   ]
  },
  {
   "cell_type": "markdown",
   "id": "appointed-attempt",
   "metadata": {},
   "source": [
    "### 8.3. Try an other model (logistic Regression) and take the best scaler from the Random Forest Model"
   ]
  },
  {
   "cell_type": "markdown",
   "id": "fantastic-choice",
   "metadata": {},
   "source": [
    "- scaler"
   ]
  },
  {
   "cell_type": "code",
   "execution_count": null,
   "id": "arabic-boutique",
   "metadata": {},
   "outputs": [],
   "source": []
  },
  {
   "cell_type": "markdown",
   "id": "norwegian-deadline",
   "metadata": {},
   "source": [
    "- define Test- and Training - datatset"
   ]
  },
  {
   "cell_type": "code",
   "execution_count": null,
   "id": "manufactured-nepal",
   "metadata": {},
   "outputs": [],
   "source": [
    "X_train, X_test, y_train, y_test =train_test_split(X, y, test_size= 0.4, random_state=40)"
   ]
  },
  {
   "cell_type": "markdown",
   "id": "accepted-worship",
   "metadata": {},
   "source": [
    "- apply Log. Regression"
   ]
  },
  {
   "cell_type": "code",
   "execution_count": null,
   "id": "immediate-argument",
   "metadata": {},
   "outputs": [],
   "source": [
    "classification = LogisticRegression(random_state=0, solver='lbfgs',max_iter=400,\n",
    "                  multi_class='ovr').fit(X_train, y_train)\n",
    "predictions = classification.predict(X_test)\n",
    "predictions"
   ]
  },
  {
   "cell_type": "markdown",
   "id": "younger-macro",
   "metadata": {},
   "source": [
    "- Evaluation"
   ]
  },
  {
   "cell_type": "code",
   "execution_count": null,
   "id": "subsequent-motor",
   "metadata": {},
   "outputs": [],
   "source": [
    "r2 = r2_score(y_test, predictions)\n",
    "print(\"R² : \" + str(r2))\n",
    "mse = mean_squared_error(y_test, predictions)\n",
    "print(\"MSE: \" + str(mse))\n",
    "rmse = math.sqrt(mse)\n",
    "print(\"RMSE: \" + str(rmse))"
   ]
  },
  {
   "cell_type": "code",
   "execution_count": null,
   "id": "chinese-wildlife",
   "metadata": {},
   "outputs": [],
   "source": [
    "probs = classification.predict_proba(X_test)\n",
    "preds =probs[:,1]\n",
    "fpr, tpr, threshold = metrics.roc_curve(y_test, preds)\n",
    "roc_auc = metrics.auc(fpr, tpr)\n",
    "print(roc_auc)"
   ]
  },
  {
   "cell_type": "markdown",
   "id": "flexible-conditions",
   "metadata": {},
   "source": [
    "- Visualization"
   ]
  },
  {
   "cell_type": "code",
   "execution_count": null,
   "id": "matched-drill",
   "metadata": {},
   "outputs": [],
   "source": [
    "# method to plot AUC visually \n",
    "plt.title('Receiver Operating Characteristic')\n",
    "plt.plot(fpr, tpr, 'b', label = 'AUC = %0.2f' % roc_auc)\n",
    "plt.legend(loc = 'lower right')\n",
    "plt.plot([0, 1], [0, 1],'r--')\n",
    "plt.xlim([0, 1])\n",
    "plt.ylim([0, 1])\n",
    "plt.ylabel('True Positive Rate')\n",
    "plt.xlabel('False Positive Rate')\n",
    "plt.show()"
   ]
  },
  {
   "cell_type": "markdown",
   "id": "precise-reputation",
   "metadata": {},
   "source": [
    "### 8.4. Apply Random Forest model on the results of the Log. Regression -> better accurate score ?"
   ]
  },
  {
   "cell_type": "code",
   "execution_count": null,
   "id": "revised-links",
   "metadata": {},
   "outputs": [],
   "source": [
    "regressor = RandomForestRegressor(n_estimators = 100, random_state = 0)\n",
    "regressor.fit(X_train,y_train)"
   ]
  },
  {
   "cell_type": "code",
   "execution_count": null,
   "id": "organized-shirt",
   "metadata": {},
   "outputs": [],
   "source": [
    "predictions_rfm_after_log_test = regressor.predict(X_test)\n",
    "predictions_rfm_after_log_test"
   ]
  },
  {
   "cell_type": "code",
   "execution_count": null,
   "id": "satisfied-trader",
   "metadata": {},
   "outputs": [],
   "source": [
    "- show the real results and the predicted results"
   ]
  },
  {
   "cell_type": "code",
   "execution_count": null,
   "id": "vulnerable-detection",
   "metadata": {},
   "outputs": [],
   "source": [
    "y_values = pd.DataFrame({'Real Values':y_test, 'Predicted Values':predictions_rfm_after_log_test})\n",
    "y_values"
   ]
  },
  {
   "cell_type": "markdown",
   "id": "fantastic-helping",
   "metadata": {},
   "source": [
    "- show the real results and the predicted results"
   ]
  },
  {
   "cell_type": "code",
   "execution_count": null,
   "id": "hindu-climb",
   "metadata": {},
   "outputs": [],
   "source": []
  },
  {
   "cell_type": "code",
   "execution_count": null,
   "id": "breathing-browse",
   "metadata": {},
   "outputs": [],
   "source": []
  },
  {
   "cell_type": "markdown",
   "id": "cordless-lafayette",
   "metadata": {},
   "source": [
    "- Evaluation"
   ]
  },
  {
   "cell_type": "code",
   "execution_count": null,
   "id": "regulated-terror",
   "metadata": {},
   "outputs": [],
   "source": []
  }
 ],
 "metadata": {
  "kernelspec": {
   "display_name": "Python 3",
   "language": "python",
   "name": "python3"
  },
  "language_info": {
   "codemirror_mode": {
    "name": "ipython",
    "version": 3
   },
   "file_extension": ".py",
   "mimetype": "text/x-python",
   "name": "python",
   "nbconvert_exporter": "python",
   "pygments_lexer": "ipython3",
   "version": "3.9.2"
  }
 },
 "nbformat": 4,
 "nbformat_minor": 5
}
