{
 "cells": [
  {
   "cell_type": "markdown",
   "id": "tamil-realtor",
   "metadata": {},
   "source": [
    "4.1.0 Libraries"
   ]
  },
  {
   "cell_type": "code",
   "execution_count": 1,
   "id": "removable-throw",
   "metadata": {},
   "outputs": [],
   "source": [
    "import numpy as np\n",
    "import pandas as pd"
   ]
  },
  {
   "cell_type": "markdown",
   "id": "maritime-bottle",
   "metadata": {},
   "source": [
    "4.2.1. Read the files"
   ]
  },
  {
   "cell_type": "code",
   "execution_count": null,
   "id": "trying-creature",
   "metadata": {},
   "outputs": [],
   "source": [
    "file1 = pd.read_excel(r'C:\\Users\\AnjaF\\Desktop\\My_final_project\\files\\Step_4_join_the_files_bs_books_and_rating\\Step4_1_joinin_files_from_Kaggle\\BX-Book-Ratings.xlsx')\n",
    "file2 = pd.read_excel(r'C:\\Users\\AnjaF\\Desktop\\My_final_project\\files\\Step_4_join_the_files_bs_books_and_rating\\Step4_1_joinin_files_from_Kaggle\\BX-Books.xlsx')\n",
    "file3 = pd.read_excel(r'C:\\Users\\AnjaF\\Desktop\\My_final_project\\files\\Step_4_join_the_files_bs_books_and_rating\\Step4_1_joinin_files_from_Kaggle\\BX-Users.xlsx')"
   ]
  },
  {
   "cell_type": "code",
   "execution_count": null,
   "id": "urban-gnome",
   "metadata": {},
   "outputs": [],
   "source": [
    "file1.head()"
   ]
  },
  {
   "cell_type": "code",
   "execution_count": null,
   "id": "abroad-consultancy",
   "metadata": {},
   "outputs": [],
   "source": [
    "file2.head()"
   ]
  },
  {
   "cell_type": "code",
   "execution_count": null,
   "id": "operating-cabinet",
   "metadata": {},
   "outputs": [],
   "source": [
    "file3.head()"
   ]
  }
 ],
 "metadata": {
  "kernelspec": {
   "display_name": "Python 3",
   "language": "python",
   "name": "python3"
  },
  "language_info": {
   "codemirror_mode": {
    "name": "ipython",
    "version": 3
   },
   "file_extension": ".py",
   "mimetype": "text/x-python",
   "name": "python",
   "nbconvert_exporter": "python",
   "pygments_lexer": "ipython3",
   "version": "3.9.2"
  }
 },
 "nbformat": 4,
 "nbformat_minor": 5
}
