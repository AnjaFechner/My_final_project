{
 "cells": [
  {
   "cell_type": "markdown",
   "id": "impressed-vegetation",
   "metadata": {},
   "source": [
    "### 6.0. Libraries"
   ]
  },
  {
   "cell_type": "code",
   "execution_count": 70,
   "id": "detailed-apartment",
   "metadata": {},
   "outputs": [],
   "source": [
    "import numpy as np\n",
    "import pandas as pd\n",
    "import re"
   ]
  },
  {
   "cell_type": "markdown",
   "id": "sexual-submission",
   "metadata": {},
   "source": [
    "### 6.1. Read the files"
   ]
  },
  {
   "cell_type": "markdown",
   "id": "fixed-evaluation",
   "metadata": {},
   "source": [
    "- Films"
   ]
  },
  {
   "cell_type": "code",
   "execution_count": 71,
   "id": "twenty-quality",
   "metadata": {},
   "outputs": [],
   "source": [
    "movie=pd.read_excel(r'C:\\Users\\AnjaF\\Desktop\\My_final_project\\files\\Step_5_book_into_films\\Book_into_Movie.xlsx')"
   ]
  },
  {
   "cell_type": "markdown",
   "id": "restricted-celtic",
   "metadata": {},
   "source": [
    "- bestseller books"
   ]
  },
  {
   "cell_type": "code",
   "execution_count": 72,
   "id": "behavioral-probability",
   "metadata": {},
   "outputs": [],
   "source": [
    "book=pd.read_excel(r'C:\\Users\\AnjaF\\Desktop\\My_final_project\\files\\Step_4_join_the_files_bs_books_and_rating\\NYT_bestseller_after_join_by_hand.xlsx')"
   ]
  },
  {
   "cell_type": "code",
   "execution_count": 73,
   "id": "architectural-water",
   "metadata": {},
   "outputs": [
    {
     "data": {
      "text/html": [
       "<div>\n",
       "<style scoped>\n",
       "    .dataframe tbody tr th:only-of-type {\n",
       "        vertical-align: middle;\n",
       "    }\n",
       "\n",
       "    .dataframe tbody tr th {\n",
       "        vertical-align: top;\n",
       "    }\n",
       "\n",
       "    .dataframe thead th {\n",
       "        text-align: right;\n",
       "    }\n",
       "</style>\n",
       "<table border=\"1\" class=\"dataframe\">\n",
       "  <thead>\n",
       "    <tr style=\"text-align: right;\">\n",
       "      <th></th>\n",
       "      <th>Unnamed: 0</th>\n",
       "      <th>index</th>\n",
       "      <th>Unnamed: 0.1</th>\n",
       "      <th>Name</th>\n",
       "      <th>Book_into_Movie</th>\n",
       "    </tr>\n",
       "  </thead>\n",
       "  <tbody>\n",
       "    <tr>\n",
       "      <th>0</th>\n",
       "      <td>0</td>\n",
       "      <td>0</td>\n",
       "      <td>0.0</td>\n",
       "      <td>The Fault in Our Stars</td>\n",
       "      <td>1</td>\n",
       "    </tr>\n",
       "    <tr>\n",
       "      <th>1</th>\n",
       "      <td>1</td>\n",
       "      <td>1</td>\n",
       "      <td>1.0</td>\n",
       "      <td>Divergent (Divergent, #1)</td>\n",
       "      <td>1</td>\n",
       "    </tr>\n",
       "    <tr>\n",
       "      <th>2</th>\n",
       "      <td>2</td>\n",
       "      <td>2</td>\n",
       "      <td>2.0</td>\n",
       "      <td>The Maze Runner (The Maze Runner, #1)</td>\n",
       "      <td>1</td>\n",
       "    </tr>\n",
       "    <tr>\n",
       "      <th>3</th>\n",
       "      <td>3</td>\n",
       "      <td>3</td>\n",
       "      <td>3.0</td>\n",
       "      <td>City of Bones (The Mortal Instruments, #1)</td>\n",
       "      <td>1</td>\n",
       "    </tr>\n",
       "    <tr>\n",
       "      <th>4</th>\n",
       "      <td>4</td>\n",
       "      <td>4</td>\n",
       "      <td>4.0</td>\n",
       "      <td>Gone Girl</td>\n",
       "      <td>1</td>\n",
       "    </tr>\n",
       "  </tbody>\n",
       "</table>\n",
       "</div>"
      ],
      "text/plain": [
       "   Unnamed: 0  index  Unnamed: 0.1  \\\n",
       "0           0      0           0.0   \n",
       "1           1      1           1.0   \n",
       "2           2      2           2.0   \n",
       "3           3      3           3.0   \n",
       "4           4      4           4.0   \n",
       "\n",
       "                                         Name  Book_into_Movie  \n",
       "0                      The Fault in Our Stars                1  \n",
       "1                   Divergent (Divergent, #1)                1  \n",
       "2       The Maze Runner (The Maze Runner, #1)                1  \n",
       "3  City of Bones (The Mortal Instruments, #1)                1  \n",
       "4                                   Gone Girl                1  "
      ]
     },
     "execution_count": 73,
     "metadata": {},
     "output_type": "execute_result"
    }
   ],
   "source": [
    "movie.head()"
   ]
  },
  {
   "cell_type": "code",
   "execution_count": 74,
   "id": "noble-insured",
   "metadata": {},
   "outputs": [],
   "source": [
    "movie = movie.drop([ \"Unnamed: 0\", \"index\", \"Unnamed: 0.1\"], axis=1)"
   ]
  },
  {
   "cell_type": "code",
   "execution_count": 75,
   "id": "answering-marsh",
   "metadata": {},
   "outputs": [],
   "source": [
    "book = book.drop([ \"Unnamed: 0\"], axis=1)"
   ]
  },
  {
   "cell_type": "code",
   "execution_count": 76,
   "id": "imperial-syntax",
   "metadata": {},
   "outputs": [],
   "source": [
    "book = book.rename(columns={'Book': 'Name'})"
   ]
  },
  {
   "cell_type": "code",
   "execution_count": 77,
   "id": "embedded-assumption",
   "metadata": {},
   "outputs": [
    {
     "data": {
      "text/html": [
       "<div>\n",
       "<style scoped>\n",
       "    .dataframe tbody tr th:only-of-type {\n",
       "        vertical-align: middle;\n",
       "    }\n",
       "\n",
       "    .dataframe tbody tr th {\n",
       "        vertical-align: top;\n",
       "    }\n",
       "\n",
       "    .dataframe thead th {\n",
       "        text-align: right;\n",
       "    }\n",
       "</style>\n",
       "<table border=\"1\" class=\"dataframe\">\n",
       "  <thead>\n",
       "    <tr style=\"text-align: right;\">\n",
       "      <th></th>\n",
       "      <th>Author</th>\n",
       "      <th>Name</th>\n",
       "      <th>Genre</th>\n",
       "      <th>Year</th>\n",
       "      <th>Rating</th>\n",
       "      <th>Reviews</th>\n",
       "      <th>Price</th>\n",
       "    </tr>\n",
       "  </thead>\n",
       "  <tbody>\n",
       "    <tr>\n",
       "      <th>0</th>\n",
       "      <td>David Baldacci</td>\n",
       "      <td>Zero Day</td>\n",
       "      <td>fiction</td>\n",
       "      <td>2011</td>\n",
       "      <td>4.5</td>\n",
       "      <td>7657.0</td>\n",
       "      <td>14.67</td>\n",
       "    </tr>\n",
       "    <tr>\n",
       "      <th>1</th>\n",
       "      <td>Reza Aslan</td>\n",
       "      <td>Zealot</td>\n",
       "      <td>nonfiction</td>\n",
       "      <td>2013</td>\n",
       "      <td>4.4</td>\n",
       "      <td>6352.0</td>\n",
       "      <td>7.89</td>\n",
       "    </tr>\n",
       "    <tr>\n",
       "      <th>2</th>\n",
       "      <td>Amy Poehler</td>\n",
       "      <td>Yes Please</td>\n",
       "      <td>nonfiction</td>\n",
       "      <td>2014</td>\n",
       "      <td>4.3</td>\n",
       "      <td>4487.0</td>\n",
       "      <td>22.25</td>\n",
       "    </tr>\n",
       "    <tr>\n",
       "      <th>3</th>\n",
       "      <td>Nora Roberts</td>\n",
       "      <td>Year One</td>\n",
       "      <td>fiction</td>\n",
       "      <td>2017</td>\n",
       "      <td>4.6</td>\n",
       "      <td>9358.0</td>\n",
       "      <td>8.83</td>\n",
       "    </tr>\n",
       "    <tr>\n",
       "      <th>4</th>\n",
       "      <td>Sue Grafton</td>\n",
       "      <td>X</td>\n",
       "      <td>fiction</td>\n",
       "      <td>2015</td>\n",
       "      <td>4.4</td>\n",
       "      <td>6071.0</td>\n",
       "      <td>7.04</td>\n",
       "    </tr>\n",
       "  </tbody>\n",
       "</table>\n",
       "</div>"
      ],
      "text/plain": [
       "           Author        Name       Genre  Year  Rating  Reviews  Price\n",
       "0  David Baldacci    Zero Day     fiction  2011     4.5   7657.0  14.67\n",
       "1      Reza Aslan      Zealot  nonfiction  2013     4.4   6352.0   7.89\n",
       "2     Amy Poehler  Yes Please  nonfiction  2014     4.3   4487.0  22.25\n",
       "3    Nora Roberts    Year One     fiction  2017     4.6   9358.0   8.83\n",
       "4     Sue Grafton           X     fiction  2015     4.4   6071.0   7.04"
      ]
     },
     "execution_count": 77,
     "metadata": {},
     "output_type": "execute_result"
    }
   ],
   "source": [
    "book.head()"
   ]
  },
  {
   "cell_type": "code",
   "execution_count": 78,
   "id": "coastal-wrestling",
   "metadata": {},
   "outputs": [
    {
     "data": {
      "text/html": [
       "<div>\n",
       "<style scoped>\n",
       "    .dataframe tbody tr th:only-of-type {\n",
       "        vertical-align: middle;\n",
       "    }\n",
       "\n",
       "    .dataframe tbody tr th {\n",
       "        vertical-align: top;\n",
       "    }\n",
       "\n",
       "    .dataframe thead th {\n",
       "        text-align: right;\n",
       "    }\n",
       "</style>\n",
       "<table border=\"1\" class=\"dataframe\">\n",
       "  <thead>\n",
       "    <tr style=\"text-align: right;\">\n",
       "      <th></th>\n",
       "      <th>Name</th>\n",
       "      <th>Book_into_Movie</th>\n",
       "    </tr>\n",
       "  </thead>\n",
       "  <tbody>\n",
       "    <tr>\n",
       "      <th>0</th>\n",
       "      <td>The Fault in Our Stars</td>\n",
       "      <td>1</td>\n",
       "    </tr>\n",
       "    <tr>\n",
       "      <th>1</th>\n",
       "      <td>Divergent (Divergent, #1)</td>\n",
       "      <td>1</td>\n",
       "    </tr>\n",
       "    <tr>\n",
       "      <th>2</th>\n",
       "      <td>The Maze Runner (The Maze Runner, #1)</td>\n",
       "      <td>1</td>\n",
       "    </tr>\n",
       "    <tr>\n",
       "      <th>3</th>\n",
       "      <td>City of Bones (The Mortal Instruments, #1)</td>\n",
       "      <td>1</td>\n",
       "    </tr>\n",
       "    <tr>\n",
       "      <th>4</th>\n",
       "      <td>Gone Girl</td>\n",
       "      <td>1</td>\n",
       "    </tr>\n",
       "  </tbody>\n",
       "</table>\n",
       "</div>"
      ],
      "text/plain": [
       "                                         Name  Book_into_Movie\n",
       "0                      The Fault in Our Stars                1\n",
       "1                   Divergent (Divergent, #1)                1\n",
       "2       The Maze Runner (The Maze Runner, #1)                1\n",
       "3  City of Bones (The Mortal Instruments, #1)                1\n",
       "4                                   Gone Girl                1"
      ]
     },
     "execution_count": 78,
     "metadata": {},
     "output_type": "execute_result"
    }
   ],
   "source": [
    "movie.head()"
   ]
  },
  {
   "cell_type": "markdown",
   "id": "caroline-depth",
   "metadata": {},
   "source": [
    "### 6.2. Join the both files on Name"
   ]
  },
  {
   "cell_type": "markdown",
   "id": "civil-sight",
   "metadata": {},
   "source": [
    "- prepariering the join()"
   ]
  },
  {
   "cell_type": "markdown",
   "id": "built-narrow",
   "metadata": {},
   "source": [
    "- file: movie (in that file are written the book titles not the movie titles)"
   ]
  },
  {
   "cell_type": "code",
   "execution_count": 79,
   "id": "speaking-python",
   "metadata": {},
   "outputs": [],
   "source": [
    "movie['book_name'] = [str(x).lower().strip() for x in movie['Name']]"
   ]
  },
  {
   "cell_type": "code",
   "execution_count": 80,
   "id": "magnetic-cincinnati",
   "metadata": {},
   "outputs": [],
   "source": [
    "movie['book_name'] = [str(x).replace('#', '') for x in movie['book_name']]"
   ]
  },
  {
   "cell_type": "code",
   "execution_count": 81,
   "id": "banned-church",
   "metadata": {},
   "outputs": [],
   "source": [
    "movie['book_name'] = [str(x).replace('(Harry Potter, 6)', '') for x in movie['book_name']]"
   ]
  },
  {
   "cell_type": "code",
   "execution_count": 82,
   "id": "digital-average",
   "metadata": {},
   "outputs": [],
   "source": [
    "movie['book_name'] = [str(x).replace('1', '') for x in movie['book_name']]"
   ]
  },
  {
   "cell_type": "code",
   "execution_count": 83,
   "id": "saved-exception",
   "metadata": {},
   "outputs": [],
   "source": [
    "movie['book_name'] = [str(x).replace('2', '') for x in movie['book_name']]"
   ]
  },
  {
   "cell_type": "code",
   "execution_count": 84,
   "id": "broadband-nicholas",
   "metadata": {},
   "outputs": [],
   "source": [
    "movie['book_name'] = [str(x).replace('(', '') for x in movie['book_name']]"
   ]
  },
  {
   "cell_type": "code",
   "execution_count": 85,
   "id": "solved-terrace",
   "metadata": {},
   "outputs": [],
   "source": [
    "movie['book_name'] = [str(x).replace(')', '') for x in movie['book_name']]"
   ]
  },
  {
   "cell_type": "code",
   "execution_count": 86,
   "id": "hearing-allen",
   "metadata": {},
   "outputs": [],
   "source": [
    "movie['book_name'] = [str(x).replace('Twilight', '') for x in movie['book_name']]"
   ]
  },
  {
   "cell_type": "code",
   "execution_count": 87,
   "id": "legitimate-recipe",
   "metadata": {},
   "outputs": [],
   "source": [
    "movie['book_name'] = [str(x).replace('Hunger Games', '') for x in movie['book_name']]"
   ]
  },
  {
   "cell_type": "markdown",
   "id": "specialized-budapest",
   "metadata": {},
   "source": [
    "- file: book"
   ]
  },
  {
   "cell_type": "code",
   "execution_count": 88,
   "id": "theoretical-swiss",
   "metadata": {},
   "outputs": [],
   "source": [
    "book['book_name'] = [str(x).lower().strip() for x in book['Name']]"
   ]
  },
  {
   "cell_type": "code",
   "execution_count": 89,
   "id": "painful-diary",
   "metadata": {},
   "outputs": [],
   "source": [
    "book['book_name'] = [str(x).replace('#', '') for x in book['book_name']]"
   ]
  },
  {
   "cell_type": "markdown",
   "id": "focused-dancing",
   "metadata": {},
   "source": [
    "- join the files and see what happen"
   ]
  },
  {
   "cell_type": "code",
   "execution_count": 90,
   "id": "exclusive-dining",
   "metadata": {},
   "outputs": [],
   "source": [
    "book_movie = pd.merge(book, movie[[\"Name\",\"Book_into_Movie\"]], on=\"Name\", how=\"left\")"
   ]
  },
  {
   "cell_type": "code",
   "execution_count": 91,
   "id": "whole-surname",
   "metadata": {},
   "outputs": [
    {
     "data": {
      "text/html": [
       "<div>\n",
       "<style scoped>\n",
       "    .dataframe tbody tr th:only-of-type {\n",
       "        vertical-align: middle;\n",
       "    }\n",
       "\n",
       "    .dataframe tbody tr th {\n",
       "        vertical-align: top;\n",
       "    }\n",
       "\n",
       "    .dataframe thead th {\n",
       "        text-align: right;\n",
       "    }\n",
       "</style>\n",
       "<table border=\"1\" class=\"dataframe\">\n",
       "  <thead>\n",
       "    <tr style=\"text-align: right;\">\n",
       "      <th></th>\n",
       "      <th>Author</th>\n",
       "      <th>Name</th>\n",
       "      <th>Genre</th>\n",
       "      <th>Year</th>\n",
       "      <th>Rating</th>\n",
       "      <th>Reviews</th>\n",
       "      <th>Price</th>\n",
       "      <th>book_name</th>\n",
       "      <th>Book_into_Movie</th>\n",
       "    </tr>\n",
       "  </thead>\n",
       "  <tbody>\n",
       "    <tr>\n",
       "      <th>0</th>\n",
       "      <td>David Baldacci</td>\n",
       "      <td>Zero Day</td>\n",
       "      <td>fiction</td>\n",
       "      <td>2011</td>\n",
       "      <td>4.5</td>\n",
       "      <td>7657.0</td>\n",
       "      <td>14.67</td>\n",
       "      <td>zero day</td>\n",
       "      <td>NaN</td>\n",
       "    </tr>\n",
       "    <tr>\n",
       "      <th>1</th>\n",
       "      <td>Reza Aslan</td>\n",
       "      <td>Zealot</td>\n",
       "      <td>nonfiction</td>\n",
       "      <td>2013</td>\n",
       "      <td>4.4</td>\n",
       "      <td>6352.0</td>\n",
       "      <td>7.89</td>\n",
       "      <td>zealot</td>\n",
       "      <td>NaN</td>\n",
       "    </tr>\n",
       "    <tr>\n",
       "      <th>2</th>\n",
       "      <td>Amy Poehler</td>\n",
       "      <td>Yes Please</td>\n",
       "      <td>nonfiction</td>\n",
       "      <td>2014</td>\n",
       "      <td>4.3</td>\n",
       "      <td>4487.0</td>\n",
       "      <td>22.25</td>\n",
       "      <td>yes please</td>\n",
       "      <td>NaN</td>\n",
       "    </tr>\n",
       "    <tr>\n",
       "      <th>3</th>\n",
       "      <td>Nora Roberts</td>\n",
       "      <td>Year One</td>\n",
       "      <td>fiction</td>\n",
       "      <td>2017</td>\n",
       "      <td>4.6</td>\n",
       "      <td>9358.0</td>\n",
       "      <td>8.83</td>\n",
       "      <td>year one</td>\n",
       "      <td>NaN</td>\n",
       "    </tr>\n",
       "    <tr>\n",
       "      <th>4</th>\n",
       "      <td>Sue Grafton</td>\n",
       "      <td>X</td>\n",
       "      <td>fiction</td>\n",
       "      <td>2015</td>\n",
       "      <td>4.4</td>\n",
       "      <td>6071.0</td>\n",
       "      <td>7.04</td>\n",
       "      <td>x</td>\n",
       "      <td>NaN</td>\n",
       "    </tr>\n",
       "  </tbody>\n",
       "</table>\n",
       "</div>"
      ],
      "text/plain": [
       "           Author        Name       Genre  Year  Rating  Reviews  Price  \\\n",
       "0  David Baldacci    Zero Day     fiction  2011     4.5   7657.0  14.67   \n",
       "1      Reza Aslan      Zealot  nonfiction  2013     4.4   6352.0   7.89   \n",
       "2     Amy Poehler  Yes Please  nonfiction  2014     4.3   4487.0  22.25   \n",
       "3    Nora Roberts    Year One     fiction  2017     4.6   9358.0   8.83   \n",
       "4     Sue Grafton           X     fiction  2015     4.4   6071.0   7.04   \n",
       "\n",
       "    book_name  Book_into_Movie  \n",
       "0    zero day              NaN  \n",
       "1      zealot              NaN  \n",
       "2  yes please              NaN  \n",
       "3    year one              NaN  \n",
       "4           x              NaN  "
      ]
     },
     "execution_count": 91,
     "metadata": {},
     "output_type": "execute_result"
    }
   ],
   "source": [
    "book_movie.head()"
   ]
  },
  {
   "cell_type": "code",
   "execution_count": 92,
   "id": "hindu-research",
   "metadata": {},
   "outputs": [
    {
     "name": "stdout",
     "output_type": "stream",
     "text": [
      "<class 'pandas.core.frame.DataFrame'>\n",
      "Int64Index: 588 entries, 0 to 587\n",
      "Data columns (total 9 columns):\n",
      " #   Column           Non-Null Count  Dtype  \n",
      "---  ------           --------------  -----  \n",
      " 0   Author           588 non-null    object \n",
      " 1   Name             588 non-null    object \n",
      " 2   Genre            588 non-null    object \n",
      " 3   Year             588 non-null    int64  \n",
      " 4   Rating           588 non-null    float64\n",
      " 5   Reviews          588 non-null    float64\n",
      " 6   Price            588 non-null    float64\n",
      " 7   book_name        588 non-null    object \n",
      " 8   Book_into_Movie  26 non-null     float64\n",
      "dtypes: float64(4), int64(1), object(4)\n",
      "memory usage: 45.9+ KB\n"
     ]
    }
   ],
   "source": [
    "book_movie.info()"
   ]
  },
  {
   "cell_type": "markdown",
   "id": "suitable-subcommittee",
   "metadata": {},
   "source": [
    "- only 26 movies are in the bestseller list of books for the timeline 2009 to 2021\n",
    "- I check this in excel again"
   ]
  },
  {
   "cell_type": "code",
   "execution_count": 93,
   "id": "cordless-tackle",
   "metadata": {},
   "outputs": [],
   "source": [
    "book_movie.to_excel(\"bestseller_books_movies.xlsx\")"
   ]
  },
  {
   "cell_type": "markdown",
   "id": "related-forestry",
   "metadata": {},
   "source": [
    "- result of the check in excel:\n",
    "- manually -> 18 additional books into film in the list now"
   ]
  },
  {
   "cell_type": "markdown",
   "id": "flying-europe",
   "metadata": {},
   "source": [
    "- a new website is found: https://apps.mymcpl.org/botb/book/browse/W\n",
    "- check manually if there are books (bestseller-file) are listed"
   ]
  },
  {
   "cell_type": "code",
   "execution_count": null,
   "id": "elder-lobby",
   "metadata": {},
   "outputs": [],
   "source": []
  }
 ],
 "metadata": {
  "kernelspec": {
   "display_name": "Python 3",
   "language": "python",
   "name": "python3"
  },
  "language_info": {
   "codemirror_mode": {
    "name": "ipython",
    "version": 3
   },
   "file_extension": ".py",
   "mimetype": "text/x-python",
   "name": "python",
   "nbconvert_exporter": "python",
   "pygments_lexer": "ipython3",
   "version": "3.9.2"
  }
 },
 "nbformat": 4,
 "nbformat_minor": 5
}
