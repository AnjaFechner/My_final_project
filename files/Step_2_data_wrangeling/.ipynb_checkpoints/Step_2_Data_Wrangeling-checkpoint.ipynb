{
 "cells": [
  {
   "cell_type": "markdown",
   "id": "rocky-independence",
   "metadata": {},
   "source": [
    "# Step 2: Read the file and Data Wrangling (for the bestseller list)"
   ]
  },
  {
   "cell_type": "markdown",
   "id": "miniature-population",
   "metadata": {},
   "source": [
    "### 2.0. Libraries"
   ]
  },
  {
   "cell_type": "code",
   "execution_count": 1,
   "id": "documentary-italic",
   "metadata": {},
   "outputs": [],
   "source": [
    "import numpy as np\n",
    "import pandas as pd\n",
    "from datetime import datetime"
   ]
  },
  {
   "cell_type": "markdown",
   "id": "nonprofit-thriller",
   "metadata": {},
   "source": [
    "### 2.1 Read the file"
   ]
  },
  {
   "attachments": {
    "Wiki.png": {
     "image/png": "[encoded data removed]"
    }
   },
   "cell_type": "markdown",
   "id": "specific-organization",
   "metadata": {},
   "source": [
    "![Wiki.png](attachment:Wiki.png)"
   ]
  },
  {
   "cell_type": "code",
   "execution_count": 2,
   "id": "advisory-incentive",
   "metadata": {},
   "outputs": [],
   "source": [
    "file1 = pd.read_csv(r'C:\\Users\\AnjaF\\Desktop\\My_final_project\\files\\Step_1_web_scraping_nyt_bestseller\\new_york_times_bestseller_1931_2021.csv')"
   ]
  },
  {
   "cell_type": "markdown",
   "id": "informal-stylus",
   "metadata": {},
   "source": [
    "### 2.2. Analyze"
   ]
  },
  {
   "cell_type": "code",
   "execution_count": 3,
   "id": "plain-medicare",
   "metadata": {},
   "outputs": [
    {
     "data": {
      "text/html": [
       "<div>\n",
       "<style scoped>\n",
       "    .dataframe tbody tr th:only-of-type {\n",
       "        vertical-align: middle;\n",
       "    }\n",
       "\n",
       "    .dataframe tbody tr th {\n",
       "        vertical-align: top;\n",
       "    }\n",
       "\n",
       "    .dataframe thead th {\n",
       "        text-align: right;\n",
       "    }\n",
       "</style>\n",
       "<table border=\"1\" class=\"dataframe\">\n",
       "  <thead>\n",
       "    <tr style=\"text-align: right;\">\n",
       "      <th></th>\n",
       "      <th>Unnamed: 0</th>\n",
       "      <th>0</th>\n",
       "      <th>1</th>\n",
       "      <th>Author</th>\n",
       "      <th>Book</th>\n",
       "      <th>Date</th>\n",
       "      <th>Genre</th>\n",
       "      <th>Publisher</th>\n",
       "      <th>Year</th>\n",
       "    </tr>\n",
       "  </thead>\n",
       "  <tbody>\n",
       "    <tr>\n",
       "      <th>0</th>\n",
       "      <td>0</td>\n",
       "      <td>NaN</td>\n",
       "      <td>NaN</td>\n",
       "      <td>Warwick Deeping</td>\n",
       "      <td>The Ten Commandments</td>\n",
       "      <td>October 12</td>\n",
       "      <td>fiction</td>\n",
       "      <td>NaN</td>\n",
       "      <td>1931</td>\n",
       "    </tr>\n",
       "    <tr>\n",
       "      <th>1</th>\n",
       "      <td>1</td>\n",
       "      <td>NaN</td>\n",
       "      <td>NaN</td>\n",
       "      <td>No List Published</td>\n",
       "      <td>No List Published</td>\n",
       "      <td>October 19</td>\n",
       "      <td>fiction</td>\n",
       "      <td>NaN</td>\n",
       "      <td>1931</td>\n",
       "    </tr>\n",
       "    <tr>\n",
       "      <th>2</th>\n",
       "      <td>2</td>\n",
       "      <td>NaN</td>\n",
       "      <td>NaN</td>\n",
       "      <td>No List Published</td>\n",
       "      <td>No List Published</td>\n",
       "      <td>October 26</td>\n",
       "      <td>fiction</td>\n",
       "      <td>NaN</td>\n",
       "      <td>1931</td>\n",
       "    </tr>\n",
       "    <tr>\n",
       "      <th>3</th>\n",
       "      <td>3</td>\n",
       "      <td>NaN</td>\n",
       "      <td>NaN</td>\n",
       "      <td>No List Published</td>\n",
       "      <td>No List Published</td>\n",
       "      <td>November 2</td>\n",
       "      <td>fiction</td>\n",
       "      <td>NaN</td>\n",
       "      <td>1931</td>\n",
       "    </tr>\n",
       "    <tr>\n",
       "      <th>4</th>\n",
       "      <td>4</td>\n",
       "      <td>NaN</td>\n",
       "      <td>NaN</td>\n",
       "      <td>No List Published</td>\n",
       "      <td>No List Published</td>\n",
       "      <td>November 9</td>\n",
       "      <td>fiction</td>\n",
       "      <td>NaN</td>\n",
       "      <td>1931</td>\n",
       "    </tr>\n",
       "  </tbody>\n",
       "</table>\n",
       "</div>"
      ],
      "text/plain": [
       "   Unnamed: 0    0    1             Author                  Book        Date  \\\n",
       "0           0  NaN  NaN    Warwick Deeping  The Ten Commandments  October 12   \n",
       "1           1  NaN  NaN  No List Published     No List Published  October 19   \n",
       "2           2  NaN  NaN  No List Published     No List Published  October 26   \n",
       "3           3  NaN  NaN  No List Published     No List Published  November 2   \n",
       "4           4  NaN  NaN  No List Published     No List Published  November 9   \n",
       "\n",
       "     Genre Publisher  Year  \n",
       "0  fiction       NaN  1931  \n",
       "1  fiction       NaN  1931  \n",
       "2  fiction       NaN  1931  \n",
       "3  fiction       NaN  1931  \n",
       "4  fiction       NaN  1931  "
      ]
     },
     "execution_count": 3,
     "metadata": {},
     "output_type": "execute_result"
    }
   ],
   "source": [
    "file1.head()"
   ]
  },
  {
   "cell_type": "code",
   "execution_count": 4,
   "id": "tough-yugoslavia",
   "metadata": {},
   "outputs": [
    {
     "name": "stdout",
     "output_type": "stream",
     "text": [
      "<class 'pandas.core.frame.DataFrame'>\n",
      "RangeIndex: 6910 entries, 0 to 6909\n",
      "Data columns (total 9 columns):\n",
      " #   Column      Non-Null Count  Dtype \n",
      "---  ------      --------------  ----- \n",
      " 0   Unnamed: 0  6910 non-null   int64 \n",
      " 1   0           54 non-null     object\n",
      " 2   1           545 non-null    object\n",
      " 3   Author      6309 non-null   object\n",
      " 4   Book        6310 non-null   object\n",
      " 5   Date        6311 non-null   object\n",
      " 6   Genre       6910 non-null   object\n",
      " 7   Publisher   710 non-null    object\n",
      " 8   Year        6910 non-null   int64 \n",
      "dtypes: int64(2), object(7)\n",
      "memory usage: 486.0+ KB\n"
     ]
    }
   ],
   "source": [
    "file1.info()"
   ]
  },
  {
   "cell_type": "code",
   "execution_count": 5,
   "id": "electoral-stadium",
   "metadata": {},
   "outputs": [
    {
     "data": {
      "text/plain": [
       "fiction       4630\n",
       "nonfiction    2280\n",
       "Name: Genre, dtype: int64"
      ]
     },
     "execution_count": 5,
     "metadata": {},
     "output_type": "execute_result"
    }
   ],
   "source": [
    "file1[\"Genre\"].value_counts()"
   ]
  },
  {
   "cell_type": "markdown",
   "id": "front-sussex",
   "metadata": {},
   "source": [
    "### 2.3. copy of original df and delete columns"
   ]
  },
  {
   "cell_type": "code",
   "execution_count": 6,
   "id": "accompanied-panama",
   "metadata": {},
   "outputs": [],
   "source": [
    "file_new = file1.copy()"
   ]
  },
  {
   "cell_type": "markdown",
   "id": "italian-revelation",
   "metadata": {},
   "source": [
    "### 2.4. Delete the columns "
   ]
  },
  {
   "cell_type": "markdown",
   "id": "geological-berry",
   "metadata": {},
   "source": [
    "- Delete the columns Index 0 to 2 and \"Publisher\", because not for all years are bestselle-list publised on wikipedia. Years without tables on wikipedia have only sentence with hint (like: please search in web for the list). I do not need this sentence in the DF. The column \"Publisher\" will not need, too.\n",
    "- Delete the columns \"Date\", because this columns will not need for the project. It is important to knwo which book is in the bestseller list, it is not important to know, how often the book is in it. Because the method to calculate the amount of selling books in the bestseller list is controversial."
   ]
  },
  {
   "cell_type": "code",
   "execution_count": 7,
   "id": "dated-console",
   "metadata": {},
   "outputs": [
    {
     "data": {
      "text/html": [
       "<div>\n",
       "<style scoped>\n",
       "    .dataframe tbody tr th:only-of-type {\n",
       "        vertical-align: middle;\n",
       "    }\n",
       "\n",
       "    .dataframe tbody tr th {\n",
       "        vertical-align: top;\n",
       "    }\n",
       "\n",
       "    .dataframe thead th {\n",
       "        text-align: right;\n",
       "    }\n",
       "</style>\n",
       "<table border=\"1\" class=\"dataframe\">\n",
       "  <thead>\n",
       "    <tr style=\"text-align: right;\">\n",
       "      <th></th>\n",
       "      <th>Unnamed: 0</th>\n",
       "      <th>0</th>\n",
       "      <th>1</th>\n",
       "      <th>Author</th>\n",
       "      <th>Book</th>\n",
       "      <th>Date</th>\n",
       "      <th>Genre</th>\n",
       "      <th>Publisher</th>\n",
       "      <th>Year</th>\n",
       "    </tr>\n",
       "  </thead>\n",
       "  <tbody>\n",
       "    <tr>\n",
       "      <th>0</th>\n",
       "      <td>0</td>\n",
       "      <td>NaN</td>\n",
       "      <td>NaN</td>\n",
       "      <td>Warwick Deeping</td>\n",
       "      <td>The Ten Commandments</td>\n",
       "      <td>October 12</td>\n",
       "      <td>fiction</td>\n",
       "      <td>NaN</td>\n",
       "      <td>1931</td>\n",
       "    </tr>\n",
       "    <tr>\n",
       "      <th>1</th>\n",
       "      <td>1</td>\n",
       "      <td>NaN</td>\n",
       "      <td>NaN</td>\n",
       "      <td>No List Published</td>\n",
       "      <td>No List Published</td>\n",
       "      <td>October 19</td>\n",
       "      <td>fiction</td>\n",
       "      <td>NaN</td>\n",
       "      <td>1931</td>\n",
       "    </tr>\n",
       "    <tr>\n",
       "      <th>2</th>\n",
       "      <td>2</td>\n",
       "      <td>NaN</td>\n",
       "      <td>NaN</td>\n",
       "      <td>No List Published</td>\n",
       "      <td>No List Published</td>\n",
       "      <td>October 26</td>\n",
       "      <td>fiction</td>\n",
       "      <td>NaN</td>\n",
       "      <td>1931</td>\n",
       "    </tr>\n",
       "    <tr>\n",
       "      <th>3</th>\n",
       "      <td>3</td>\n",
       "      <td>NaN</td>\n",
       "      <td>NaN</td>\n",
       "      <td>No List Published</td>\n",
       "      <td>No List Published</td>\n",
       "      <td>November 2</td>\n",
       "      <td>fiction</td>\n",
       "      <td>NaN</td>\n",
       "      <td>1931</td>\n",
       "    </tr>\n",
       "    <tr>\n",
       "      <th>4</th>\n",
       "      <td>4</td>\n",
       "      <td>NaN</td>\n",
       "      <td>NaN</td>\n",
       "      <td>No List Published</td>\n",
       "      <td>No List Published</td>\n",
       "      <td>November 9</td>\n",
       "      <td>fiction</td>\n",
       "      <td>NaN</td>\n",
       "      <td>1931</td>\n",
       "    </tr>\n",
       "  </tbody>\n",
       "</table>\n",
       "</div>"
      ],
      "text/plain": [
       "   Unnamed: 0    0    1             Author                  Book        Date  \\\n",
       "0           0  NaN  NaN    Warwick Deeping  The Ten Commandments  October 12   \n",
       "1           1  NaN  NaN  No List Published     No List Published  October 19   \n",
       "2           2  NaN  NaN  No List Published     No List Published  October 26   \n",
       "3           3  NaN  NaN  No List Published     No List Published  November 2   \n",
       "4           4  NaN  NaN  No List Published     No List Published  November 9   \n",
       "\n",
       "     Genre Publisher  Year  \n",
       "0  fiction       NaN  1931  \n",
       "1  fiction       NaN  1931  \n",
       "2  fiction       NaN  1931  \n",
       "3  fiction       NaN  1931  \n",
       "4  fiction       NaN  1931  "
      ]
     },
     "execution_count": 7,
     "metadata": {},
     "output_type": "execute_result"
    }
   ],
   "source": [
    "file_new.head()"
   ]
  },
  {
   "cell_type": "code",
   "execution_count": 8,
   "id": "illegal-demand",
   "metadata": {},
   "outputs": [
    {
     "data": {
      "text/plain": [
       "Index(['Unnamed: 0', '0', '1', 'Author', 'Book', 'Date', 'Genre', 'Publisher',\n",
       "       'Year'],\n",
       "      dtype='object')"
      ]
     },
     "execution_count": 8,
     "metadata": {},
     "output_type": "execute_result"
    }
   ],
   "source": [
    "file_new.columns"
   ]
  },
  {
   "cell_type": "code",
   "execution_count": 9,
   "id": "collaborative-sitting",
   "metadata": {},
   "outputs": [
    {
     "data": {
      "text/html": [
       "<div>\n",
       "<style scoped>\n",
       "    .dataframe tbody tr th:only-of-type {\n",
       "        vertical-align: middle;\n",
       "    }\n",
       "\n",
       "    .dataframe tbody tr th {\n",
       "        vertical-align: top;\n",
       "    }\n",
       "\n",
       "    .dataframe thead th {\n",
       "        text-align: right;\n",
       "    }\n",
       "</style>\n",
       "<table border=\"1\" class=\"dataframe\">\n",
       "  <thead>\n",
       "    <tr style=\"text-align: right;\">\n",
       "      <th></th>\n",
       "      <th>Author</th>\n",
       "      <th>Book</th>\n",
       "      <th>Genre</th>\n",
       "      <th>Year</th>\n",
       "    </tr>\n",
       "  </thead>\n",
       "  <tbody>\n",
       "    <tr>\n",
       "      <th>0</th>\n",
       "      <td>Warwick Deeping</td>\n",
       "      <td>The Ten Commandments</td>\n",
       "      <td>fiction</td>\n",
       "      <td>1931</td>\n",
       "    </tr>\n",
       "    <tr>\n",
       "      <th>1</th>\n",
       "      <td>No List Published</td>\n",
       "      <td>No List Published</td>\n",
       "      <td>fiction</td>\n",
       "      <td>1931</td>\n",
       "    </tr>\n",
       "    <tr>\n",
       "      <th>2</th>\n",
       "      <td>No List Published</td>\n",
       "      <td>No List Published</td>\n",
       "      <td>fiction</td>\n",
       "      <td>1931</td>\n",
       "    </tr>\n",
       "    <tr>\n",
       "      <th>3</th>\n",
       "      <td>No List Published</td>\n",
       "      <td>No List Published</td>\n",
       "      <td>fiction</td>\n",
       "      <td>1931</td>\n",
       "    </tr>\n",
       "    <tr>\n",
       "      <th>4</th>\n",
       "      <td>No List Published</td>\n",
       "      <td>No List Published</td>\n",
       "      <td>fiction</td>\n",
       "      <td>1931</td>\n",
       "    </tr>\n",
       "    <tr>\n",
       "      <th>...</th>\n",
       "      <td>...</td>\n",
       "      <td>...</td>\n",
       "      <td>...</td>\n",
       "      <td>...</td>\n",
       "    </tr>\n",
       "    <tr>\n",
       "      <th>6905</th>\n",
       "      <td>Brandi Carlile</td>\n",
       "      <td>Broken Horses</td>\n",
       "      <td>nonfiction</td>\n",
       "      <td>2021</td>\n",
       "    </tr>\n",
       "    <tr>\n",
       "      <th>6906</th>\n",
       "      <td>John Boehner</td>\n",
       "      <td>On the House</td>\n",
       "      <td>nonfiction</td>\n",
       "      <td>2021</td>\n",
       "    </tr>\n",
       "    <tr>\n",
       "      <th>6907</th>\n",
       "      <td>George W. Bush</td>\n",
       "      <td>Out of Many, One</td>\n",
       "      <td>nonfiction</td>\n",
       "      <td>2021</td>\n",
       "    </tr>\n",
       "    <tr>\n",
       "      <th>6908</th>\n",
       "      <td>Bruce D. Perry and Oprah Winfrey</td>\n",
       "      <td>What Happened to You?</td>\n",
       "      <td>nonfiction</td>\n",
       "      <td>2021</td>\n",
       "    </tr>\n",
       "    <tr>\n",
       "      <th>6909</th>\n",
       "      <td>Bill O'Reilly and Martin Dugard</td>\n",
       "      <td>Killing the Mob</td>\n",
       "      <td>nonfiction</td>\n",
       "      <td>2021</td>\n",
       "    </tr>\n",
       "  </tbody>\n",
       "</table>\n",
       "<p>6910 rows × 4 columns</p>\n",
       "</div>"
      ],
      "text/plain": [
       "                                Author                   Book       Genre  \\\n",
       "0                      Warwick Deeping   The Ten Commandments     fiction   \n",
       "1                    No List Published      No List Published     fiction   \n",
       "2                    No List Published      No List Published     fiction   \n",
       "3                    No List Published      No List Published     fiction   \n",
       "4                    No List Published      No List Published     fiction   \n",
       "...                                ...                    ...         ...   \n",
       "6905                    Brandi Carlile          Broken Horses  nonfiction   \n",
       "6906                      John Boehner           On the House  nonfiction   \n",
       "6907                    George W. Bush       Out of Many, One  nonfiction   \n",
       "6908  Bruce D. Perry and Oprah Winfrey  What Happened to You?  nonfiction   \n",
       "6909   Bill O'Reilly and Martin Dugard        Killing the Mob  nonfiction   \n",
       "\n",
       "      Year  \n",
       "0     1931  \n",
       "1     1931  \n",
       "2     1931  \n",
       "3     1931  \n",
       "4     1931  \n",
       "...    ...  \n",
       "6905  2021  \n",
       "6906  2021  \n",
       "6907  2021  \n",
       "6908  2021  \n",
       "6909  2021  \n",
       "\n",
       "[6910 rows x 4 columns]"
      ]
     },
     "execution_count": 9,
     "metadata": {},
     "output_type": "execute_result"
    }
   ],
   "source": [
    "file_new = file_new.drop(columns=[\"Unnamed: 0\", \"0\", \"1\", \"Publisher\", \"Date\"])\n",
    "file_new"
   ]
  },
  {
   "cell_type": "code",
   "execution_count": 10,
   "id": "continental-makeup",
   "metadata": {},
   "outputs": [
    {
     "name": "stdout",
     "output_type": "stream",
     "text": [
      "<class 'pandas.core.frame.DataFrame'>\n",
      "RangeIndex: 6910 entries, 0 to 6909\n",
      "Data columns (total 4 columns):\n",
      " #   Column  Non-Null Count  Dtype \n",
      "---  ------  --------------  ----- \n",
      " 0   Author  6309 non-null   object\n",
      " 1   Book    6310 non-null   object\n",
      " 2   Genre   6910 non-null   object\n",
      " 3   Year    6910 non-null   int64 \n",
      "dtypes: int64(1), object(3)\n",
      "memory usage: 216.1+ KB\n"
     ]
    }
   ],
   "source": [
    "file_new.info()"
   ]
  },
  {
   "cell_type": "markdown",
   "id": "express-dating",
   "metadata": {},
   "source": [
    "### 2.5. Drop NaN Values and the message \"No List Published\"\n",
    "1. Delete the rows with the string \"No List Published\" in the colum author, because it is not a book, it is only a hint that for this time a bestseller list does not published.\n",
    "\n",
    "2. Drop the NaN from the columns Genre/Year, because every book has a year and a genre. Empty rows are a hint that is only a text from Wikipedia (not all years has a bestseller list and for that years wikipeda published hints (strings on the pages)). \n",
    "\n",
    "3. Drop the NaN from Author and drop the rows with the content \"unknown; not clear from source unknown; not clear from source\" and \"Not published due to Newspaper Strike Not published due to Newspaper Strike\""
   ]
  },
  {
   "cell_type": "code",
   "execution_count": 11,
   "id": "empirical-entry",
   "metadata": {},
   "outputs": [],
   "source": [
    "# 1\n",
    "file_new = file_new.drop(file_new[file_new.Author == \"No List Published\"].index)"
   ]
  },
  {
   "cell_type": "code",
   "execution_count": 12,
   "id": "better-commerce",
   "metadata": {},
   "outputs": [
    {
     "name": "stdout",
     "output_type": "stream",
     "text": [
      "<class 'pandas.core.frame.DataFrame'>\n",
      "Int64Index: 6905 entries, 0 to 6909\n",
      "Data columns (total 4 columns):\n",
      " #   Column  Non-Null Count  Dtype \n",
      "---  ------  --------------  ----- \n",
      " 0   Author  6304 non-null   object\n",
      " 1   Book    6305 non-null   object\n",
      " 2   Genre   6905 non-null   object\n",
      " 3   Year    6905 non-null   int64 \n",
      "dtypes: int64(1), object(3)\n",
      "memory usage: 269.7+ KB\n"
     ]
    }
   ],
   "source": [
    "# check the resukt\n",
    "file_new.info()"
   ]
  },
  {
   "cell_type": "code",
   "execution_count": 13,
   "id": "level-junior",
   "metadata": {},
   "outputs": [
    {
     "data": {
      "text/html": [
       "<div>\n",
       "<style scoped>\n",
       "    .dataframe tbody tr th:only-of-type {\n",
       "        vertical-align: middle;\n",
       "    }\n",
       "\n",
       "    .dataframe tbody tr th {\n",
       "        vertical-align: top;\n",
       "    }\n",
       "\n",
       "    .dataframe thead th {\n",
       "        text-align: right;\n",
       "    }\n",
       "</style>\n",
       "<table border=\"1\" class=\"dataframe\">\n",
       "  <thead>\n",
       "    <tr style=\"text-align: right;\">\n",
       "      <th></th>\n",
       "      <th>Author</th>\n",
       "      <th>Book</th>\n",
       "      <th>Genre</th>\n",
       "      <th>Year</th>\n",
       "    </tr>\n",
       "  </thead>\n",
       "  <tbody>\n",
       "    <tr>\n",
       "      <th>0</th>\n",
       "      <td>Warwick Deeping</td>\n",
       "      <td>The Ten Commandments</td>\n",
       "      <td>fiction</td>\n",
       "      <td>1931</td>\n",
       "    </tr>\n",
       "    <tr>\n",
       "      <th>5</th>\n",
       "      <td>John Galsworthy</td>\n",
       "      <td>Maid in Waiting</td>\n",
       "      <td>fiction</td>\n",
       "      <td>1931</td>\n",
       "    </tr>\n",
       "    <tr>\n",
       "      <th>7</th>\n",
       "      <td>John Galsworthy</td>\n",
       "      <td>Maid in Waiting</td>\n",
       "      <td>fiction</td>\n",
       "      <td>1931</td>\n",
       "    </tr>\n",
       "    <tr>\n",
       "      <th>8</th>\n",
       "      <td>John Galsworthy</td>\n",
       "      <td>Maid in Waiting</td>\n",
       "      <td>fiction</td>\n",
       "      <td>1931</td>\n",
       "    </tr>\n",
       "    <tr>\n",
       "      <th>9</th>\n",
       "      <td>John Galsworthy</td>\n",
       "      <td>Maid in Waiting</td>\n",
       "      <td>fiction</td>\n",
       "      <td>1931</td>\n",
       "    </tr>\n",
       "  </tbody>\n",
       "</table>\n",
       "</div>"
      ],
      "text/plain": [
       "            Author                  Book    Genre  Year\n",
       "0  Warwick Deeping  The Ten Commandments  fiction  1931\n",
       "5  John Galsworthy       Maid in Waiting  fiction  1931\n",
       "7  John Galsworthy       Maid in Waiting  fiction  1931\n",
       "8  John Galsworthy       Maid in Waiting  fiction  1931\n",
       "9  John Galsworthy       Maid in Waiting  fiction  1931"
      ]
     },
     "execution_count": 13,
     "metadata": {},
     "output_type": "execute_result"
    }
   ],
   "source": [
    "#check the result\n",
    "file_new.head()"
   ]
  },
  {
   "cell_type": "code",
   "execution_count": 14,
   "id": "olive-agreement",
   "metadata": {},
   "outputs": [],
   "source": [
    "#2\n",
    "file_new = file_new.dropna(subset=[\"Genre\"])"
   ]
  },
  {
   "cell_type": "code",
   "execution_count": 15,
   "id": "backed-ireland",
   "metadata": {},
   "outputs": [],
   "source": [
    "#3\n",
    "file_new = file_new.dropna(subset=[\"Author\"])\n",
    "file_new = file_new.drop(file_new[file_new.Author == \"unknown; not clear from source unknown; not clear from source\"].index)\n",
    "file_new = file_new.drop(file_new[file_new.Author == \"Not published due to Newspaper Strike Not published due to Newspaper Strike\"].index)"
   ]
  },
  {
   "cell_type": "code",
   "execution_count": 16,
   "id": "associate-idaho",
   "metadata": {},
   "outputs": [
    {
     "name": "stdout",
     "output_type": "stream",
     "text": [
      "<class 'pandas.core.frame.DataFrame'>\n",
      "Int64Index: 6304 entries, 0 to 6909\n",
      "Data columns (total 4 columns):\n",
      " #   Column  Non-Null Count  Dtype \n",
      "---  ------  --------------  ----- \n",
      " 0   Author  6304 non-null   object\n",
      " 1   Book    6304 non-null   object\n",
      " 2   Genre   6304 non-null   object\n",
      " 3   Year    6304 non-null   int64 \n",
      "dtypes: int64(1), object(3)\n",
      "memory usage: 375.3+ KB\n"
     ]
    }
   ],
   "source": [
    "#check the result\n",
    "file_new.info()"
   ]
  },
  {
   "cell_type": "code",
   "execution_count": 17,
   "id": "promising-seeker",
   "metadata": {},
   "outputs": [
    {
     "data": {
      "text/html": [
       "<div>\n",
       "<style scoped>\n",
       "    .dataframe tbody tr th:only-of-type {\n",
       "        vertical-align: middle;\n",
       "    }\n",
       "\n",
       "    .dataframe tbody tr th {\n",
       "        vertical-align: top;\n",
       "    }\n",
       "\n",
       "    .dataframe thead th {\n",
       "        text-align: right;\n",
       "    }\n",
       "</style>\n",
       "<table border=\"1\" class=\"dataframe\">\n",
       "  <thead>\n",
       "    <tr style=\"text-align: right;\">\n",
       "      <th></th>\n",
       "      <th>Author</th>\n",
       "      <th>Book</th>\n",
       "      <th>Genre</th>\n",
       "      <th>Year</th>\n",
       "    </tr>\n",
       "  </thead>\n",
       "  <tbody>\n",
       "    <tr>\n",
       "      <th>0</th>\n",
       "      <td>Warwick Deeping</td>\n",
       "      <td>The Ten Commandments</td>\n",
       "      <td>fiction</td>\n",
       "      <td>1931</td>\n",
       "    </tr>\n",
       "    <tr>\n",
       "      <th>5</th>\n",
       "      <td>John Galsworthy</td>\n",
       "      <td>Maid in Waiting</td>\n",
       "      <td>fiction</td>\n",
       "      <td>1931</td>\n",
       "    </tr>\n",
       "    <tr>\n",
       "      <th>7</th>\n",
       "      <td>John Galsworthy</td>\n",
       "      <td>Maid in Waiting</td>\n",
       "      <td>fiction</td>\n",
       "      <td>1931</td>\n",
       "    </tr>\n",
       "    <tr>\n",
       "      <th>8</th>\n",
       "      <td>John Galsworthy</td>\n",
       "      <td>Maid in Waiting</td>\n",
       "      <td>fiction</td>\n",
       "      <td>1931</td>\n",
       "    </tr>\n",
       "    <tr>\n",
       "      <th>9</th>\n",
       "      <td>John Galsworthy</td>\n",
       "      <td>Maid in Waiting</td>\n",
       "      <td>fiction</td>\n",
       "      <td>1931</td>\n",
       "    </tr>\n",
       "  </tbody>\n",
       "</table>\n",
       "</div>"
      ],
      "text/plain": [
       "            Author                  Book    Genre  Year\n",
       "0  Warwick Deeping  The Ten Commandments  fiction  1931\n",
       "5  John Galsworthy       Maid in Waiting  fiction  1931\n",
       "7  John Galsworthy       Maid in Waiting  fiction  1931\n",
       "8  John Galsworthy       Maid in Waiting  fiction  1931\n",
       "9  John Galsworthy       Maid in Waiting  fiction  1931"
      ]
     },
     "execution_count": 17,
     "metadata": {},
     "output_type": "execute_result"
    }
   ],
   "source": [
    "# check the result\n",
    "file_new.head()"
   ]
  },
  {
   "cell_type": "markdown",
   "id": "thirty-chart",
   "metadata": {},
   "source": [
    "### Step between\n",
    "- because after I drop the duplicates the rows will reduced from around 5000 to around 1000. I save the DataFRame with the status before drop duplicates to check this in Tableau and Excel"
   ]
  },
  {
   "cell_type": "code",
   "execution_count": 18,
   "id": "incorporate-omaha",
   "metadata": {},
   "outputs": [],
   "source": [
    "# save the file\n",
    "file_new.to_csv(\"NYT_book_with_duplicates.csv\")\n",
    "# result: There are a lots of duplicates: In the end, there are round 4/5 duplicates int the list"
   ]
  },
  {
   "cell_type": "markdown",
   "id": "better-venture",
   "metadata": {},
   "source": [
    "### 2.6. Check and drop duplicates and sepcifiv values/strings\n",
    "There are lots of duplicates in the list because some book titles are the best selling book for several weeks."
   ]
  },
  {
   "cell_type": "code",
   "execution_count": 19,
   "id": "sublime-murray",
   "metadata": {},
   "outputs": [],
   "source": [
    "file_new = file_new.drop_duplicates(\"Book\")"
   ]
  },
  {
   "cell_type": "code",
   "execution_count": 20,
   "id": "tropical-fashion",
   "metadata": {},
   "outputs": [
    {
     "name": "stdout",
     "output_type": "stream",
     "text": [
      "<class 'pandas.core.frame.DataFrame'>\n",
      "Int64Index: 1400 entries, 0 to 6909\n",
      "Data columns (total 4 columns):\n",
      " #   Column  Non-Null Count  Dtype \n",
      "---  ------  --------------  ----- \n",
      " 0   Author  1400 non-null   object\n",
      " 1   Book    1400 non-null   object\n",
      " 2   Genre   1400 non-null   object\n",
      " 3   Year    1400 non-null   int64 \n",
      "dtypes: int64(1), object(3)\n",
      "memory usage: 54.7+ KB\n"
     ]
    }
   ],
   "source": [
    "# check the result\n",
    "file_new.info()"
   ]
  },
  {
   "cell_type": "code",
   "execution_count": 21,
   "id": "renewable-client",
   "metadata": {},
   "outputs": [
    {
     "data": {
      "text/html": [
       "<div>\n",
       "<style scoped>\n",
       "    .dataframe tbody tr th:only-of-type {\n",
       "        vertical-align: middle;\n",
       "    }\n",
       "\n",
       "    .dataframe tbody tr th {\n",
       "        vertical-align: top;\n",
       "    }\n",
       "\n",
       "    .dataframe thead th {\n",
       "        text-align: right;\n",
       "    }\n",
       "</style>\n",
       "<table border=\"1\" class=\"dataframe\">\n",
       "  <thead>\n",
       "    <tr style=\"text-align: right;\">\n",
       "      <th></th>\n",
       "      <th>Author</th>\n",
       "      <th>Book</th>\n",
       "      <th>Genre</th>\n",
       "      <th>Year</th>\n",
       "    </tr>\n",
       "  </thead>\n",
       "  <tbody>\n",
       "    <tr>\n",
       "      <th>0</th>\n",
       "      <td>Warwick Deeping</td>\n",
       "      <td>The Ten Commandments</td>\n",
       "      <td>fiction</td>\n",
       "      <td>1931</td>\n",
       "    </tr>\n",
       "    <tr>\n",
       "      <th>5</th>\n",
       "      <td>John Galsworthy</td>\n",
       "      <td>Maid in Waiting</td>\n",
       "      <td>fiction</td>\n",
       "      <td>1931</td>\n",
       "    </tr>\n",
       "    <tr>\n",
       "      <th>13</th>\n",
       "      <td>William McFee</td>\n",
       "      <td>The Harbourmaster</td>\n",
       "      <td>fiction</td>\n",
       "      <td>1932</td>\n",
       "    </tr>\n",
       "    <tr>\n",
       "      <th>15</th>\n",
       "      <td>Francis Brett Young</td>\n",
       "      <td>Mr. and Mrs. Pennington</td>\n",
       "      <td>fiction</td>\n",
       "      <td>1932</td>\n",
       "    </tr>\n",
       "    <tr>\n",
       "      <th>17</th>\n",
       "      <td>Robert Herrick</td>\n",
       "      <td>The End of Desire</td>\n",
       "      <td>fiction</td>\n",
       "      <td>1932</td>\n",
       "    </tr>\n",
       "  </tbody>\n",
       "</table>\n",
       "</div>"
      ],
      "text/plain": [
       "                 Author                     Book    Genre  Year\n",
       "0       Warwick Deeping     The Ten Commandments  fiction  1931\n",
       "5       John Galsworthy          Maid in Waiting  fiction  1931\n",
       "13        William McFee        The Harbourmaster  fiction  1932\n",
       "15  Francis Brett Young  Mr. and Mrs. Pennington  fiction  1932\n",
       "17       Robert Herrick        The End of Desire  fiction  1932"
      ]
     },
     "execution_count": 21,
     "metadata": {},
     "output_type": "execute_result"
    }
   ],
   "source": [
    "# check the result\n",
    "file_new.head()"
   ]
  },
  {
   "cell_type": "markdown",
   "id": "substantial-billy",
   "metadata": {},
   "source": [
    "### 2.7 Reset Index"
   ]
  },
  {
   "cell_type": "code",
   "execution_count": 22,
   "id": "registered-foster",
   "metadata": {},
   "outputs": [],
   "source": [
    "file_new.reset_index(inplace = True)"
   ]
  },
  {
   "cell_type": "code",
   "execution_count": 23,
   "id": "regulated-wildlife",
   "metadata": {},
   "outputs": [
    {
     "data": {
      "text/html": [
       "<div>\n",
       "<style scoped>\n",
       "    .dataframe tbody tr th:only-of-type {\n",
       "        vertical-align: middle;\n",
       "    }\n",
       "\n",
       "    .dataframe tbody tr th {\n",
       "        vertical-align: top;\n",
       "    }\n",
       "\n",
       "    .dataframe thead th {\n",
       "        text-align: right;\n",
       "    }\n",
       "</style>\n",
       "<table border=\"1\" class=\"dataframe\">\n",
       "  <thead>\n",
       "    <tr style=\"text-align: right;\">\n",
       "      <th></th>\n",
       "      <th>index</th>\n",
       "      <th>Author</th>\n",
       "      <th>Book</th>\n",
       "      <th>Genre</th>\n",
       "      <th>Year</th>\n",
       "    </tr>\n",
       "  </thead>\n",
       "  <tbody>\n",
       "    <tr>\n",
       "      <th>0</th>\n",
       "      <td>0</td>\n",
       "      <td>Warwick Deeping</td>\n",
       "      <td>The Ten Commandments</td>\n",
       "      <td>fiction</td>\n",
       "      <td>1931</td>\n",
       "    </tr>\n",
       "    <tr>\n",
       "      <th>1</th>\n",
       "      <td>5</td>\n",
       "      <td>John Galsworthy</td>\n",
       "      <td>Maid in Waiting</td>\n",
       "      <td>fiction</td>\n",
       "      <td>1931</td>\n",
       "    </tr>\n",
       "    <tr>\n",
       "      <th>2</th>\n",
       "      <td>13</td>\n",
       "      <td>William McFee</td>\n",
       "      <td>The Harbourmaster</td>\n",
       "      <td>fiction</td>\n",
       "      <td>1932</td>\n",
       "    </tr>\n",
       "    <tr>\n",
       "      <th>3</th>\n",
       "      <td>15</td>\n",
       "      <td>Francis Brett Young</td>\n",
       "      <td>Mr. and Mrs. Pennington</td>\n",
       "      <td>fiction</td>\n",
       "      <td>1932</td>\n",
       "    </tr>\n",
       "    <tr>\n",
       "      <th>4</th>\n",
       "      <td>17</td>\n",
       "      <td>Robert Herrick</td>\n",
       "      <td>The End of Desire</td>\n",
       "      <td>fiction</td>\n",
       "      <td>1932</td>\n",
       "    </tr>\n",
       "  </tbody>\n",
       "</table>\n",
       "</div>"
      ],
      "text/plain": [
       "   index               Author                     Book    Genre  Year\n",
       "0      0      Warwick Deeping     The Ten Commandments  fiction  1931\n",
       "1      5      John Galsworthy          Maid in Waiting  fiction  1931\n",
       "2     13        William McFee        The Harbourmaster  fiction  1932\n",
       "3     15  Francis Brett Young  Mr. and Mrs. Pennington  fiction  1932\n",
       "4     17       Robert Herrick        The End of Desire  fiction  1932"
      ]
     },
     "execution_count": 23,
     "metadata": {},
     "output_type": "execute_result"
    }
   ],
   "source": [
    "file_new.head()"
   ]
  },
  {
   "cell_type": "code",
   "execution_count": 24,
   "id": "duplicate-anniversary",
   "metadata": {},
   "outputs": [
    {
     "data": {
      "text/html": [
       "<div>\n",
       "<style scoped>\n",
       "    .dataframe tbody tr th:only-of-type {\n",
       "        vertical-align: middle;\n",
       "    }\n",
       "\n",
       "    .dataframe tbody tr th {\n",
       "        vertical-align: top;\n",
       "    }\n",
       "\n",
       "    .dataframe thead th {\n",
       "        text-align: right;\n",
       "    }\n",
       "</style>\n",
       "<table border=\"1\" class=\"dataframe\">\n",
       "  <thead>\n",
       "    <tr style=\"text-align: right;\">\n",
       "      <th></th>\n",
       "      <th>Author</th>\n",
       "      <th>Book</th>\n",
       "      <th>Genre</th>\n",
       "      <th>Year</th>\n",
       "    </tr>\n",
       "  </thead>\n",
       "  <tbody>\n",
       "    <tr>\n",
       "      <th>0</th>\n",
       "      <td>Warwick Deeping</td>\n",
       "      <td>The Ten Commandments</td>\n",
       "      <td>fiction</td>\n",
       "      <td>1931</td>\n",
       "    </tr>\n",
       "    <tr>\n",
       "      <th>1</th>\n",
       "      <td>John Galsworthy</td>\n",
       "      <td>Maid in Waiting</td>\n",
       "      <td>fiction</td>\n",
       "      <td>1931</td>\n",
       "    </tr>\n",
       "    <tr>\n",
       "      <th>2</th>\n",
       "      <td>William McFee</td>\n",
       "      <td>The Harbourmaster</td>\n",
       "      <td>fiction</td>\n",
       "      <td>1932</td>\n",
       "    </tr>\n",
       "    <tr>\n",
       "      <th>3</th>\n",
       "      <td>Francis Brett Young</td>\n",
       "      <td>Mr. and Mrs. Pennington</td>\n",
       "      <td>fiction</td>\n",
       "      <td>1932</td>\n",
       "    </tr>\n",
       "    <tr>\n",
       "      <th>4</th>\n",
       "      <td>Robert Herrick</td>\n",
       "      <td>The End of Desire</td>\n",
       "      <td>fiction</td>\n",
       "      <td>1932</td>\n",
       "    </tr>\n",
       "    <tr>\n",
       "      <th>...</th>\n",
       "      <td>...</td>\n",
       "      <td>...</td>\n",
       "      <td>...</td>\n",
       "      <td>...</td>\n",
       "    </tr>\n",
       "    <tr>\n",
       "      <th>1395</th>\n",
       "      <td>Brandi Carlile</td>\n",
       "      <td>Broken Horses</td>\n",
       "      <td>nonfiction</td>\n",
       "      <td>2021</td>\n",
       "    </tr>\n",
       "    <tr>\n",
       "      <th>1396</th>\n",
       "      <td>John Boehner</td>\n",
       "      <td>On the House</td>\n",
       "      <td>nonfiction</td>\n",
       "      <td>2021</td>\n",
       "    </tr>\n",
       "    <tr>\n",
       "      <th>1397</th>\n",
       "      <td>George W. Bush</td>\n",
       "      <td>Out of Many, One</td>\n",
       "      <td>nonfiction</td>\n",
       "      <td>2021</td>\n",
       "    </tr>\n",
       "    <tr>\n",
       "      <th>1398</th>\n",
       "      <td>Bruce D. Perry and Oprah Winfrey</td>\n",
       "      <td>What Happened to You?</td>\n",
       "      <td>nonfiction</td>\n",
       "      <td>2021</td>\n",
       "    </tr>\n",
       "    <tr>\n",
       "      <th>1399</th>\n",
       "      <td>Bill O'Reilly and Martin Dugard</td>\n",
       "      <td>Killing the Mob</td>\n",
       "      <td>nonfiction</td>\n",
       "      <td>2021</td>\n",
       "    </tr>\n",
       "  </tbody>\n",
       "</table>\n",
       "<p>1400 rows × 4 columns</p>\n",
       "</div>"
      ],
      "text/plain": [
       "                                Author                     Book       Genre  \\\n",
       "0                      Warwick Deeping     The Ten Commandments     fiction   \n",
       "1                      John Galsworthy          Maid in Waiting     fiction   \n",
       "2                        William McFee        The Harbourmaster     fiction   \n",
       "3                  Francis Brett Young  Mr. and Mrs. Pennington     fiction   \n",
       "4                       Robert Herrick        The End of Desire     fiction   \n",
       "...                                ...                      ...         ...   \n",
       "1395                    Brandi Carlile            Broken Horses  nonfiction   \n",
       "1396                      John Boehner             On the House  nonfiction   \n",
       "1397                    George W. Bush         Out of Many, One  nonfiction   \n",
       "1398  Bruce D. Perry and Oprah Winfrey    What Happened to You?  nonfiction   \n",
       "1399   Bill O'Reilly and Martin Dugard          Killing the Mob  nonfiction   \n",
       "\n",
       "      Year  \n",
       "0     1931  \n",
       "1     1931  \n",
       "2     1932  \n",
       "3     1932  \n",
       "4     1932  \n",
       "...    ...  \n",
       "1395  2021  \n",
       "1396  2021  \n",
       "1397  2021  \n",
       "1398  2021  \n",
       "1399  2021  \n",
       "\n",
       "[1400 rows x 4 columns]"
      ]
     },
     "execution_count": 24,
     "metadata": {},
     "output_type": "execute_result"
    }
   ],
   "source": [
    "# column \"index\" is not necessary\n",
    "file_new = file_new.drop(columns=[\"index\"])\n",
    "file_new"
   ]
  },
  {
   "cell_type": "code",
   "execution_count": 25,
   "id": "aquatic-category",
   "metadata": {},
   "outputs": [],
   "source": [
    "# save the new list without duplicates\n",
    "file_new.to_csv(\"NYT_book_without_duplicates.csv\")"
   ]
  },
  {
   "cell_type": "markdown",
   "id": "brilliant-identity",
   "metadata": {},
   "source": [
    "### 2.8 Create a new column \"Searching_Value\"\n",
    "\n",
    "1. Because Autor + Book = new column will need to scrape the ISBN from the internet. After that the ISBN will use to scrape more inforamtions from AMAZON\n",
    "\n",
    "2. Replace the empty spaces with +. This will need to scrape the ISBN."
   ]
  },
  {
   "cell_type": "code",
   "execution_count": 26,
   "id": "falling-parameter",
   "metadata": {},
   "outputs": [],
   "source": [
    "# 1\n",
    "# create new column\n",
    "file_new[\"Searching_Value\"] = file_new[\"Book\"] + \" \" + file_new[\"Author\"]"
   ]
  },
  {
   "cell_type": "code",
   "execution_count": 27,
   "id": "satisfactory-antique",
   "metadata": {},
   "outputs": [
    {
     "data": {
      "text/html": [
       "<div>\n",
       "<style scoped>\n",
       "    .dataframe tbody tr th:only-of-type {\n",
       "        vertical-align: middle;\n",
       "    }\n",
       "\n",
       "    .dataframe tbody tr th {\n",
       "        vertical-align: top;\n",
       "    }\n",
       "\n",
       "    .dataframe thead th {\n",
       "        text-align: right;\n",
       "    }\n",
       "</style>\n",
       "<table border=\"1\" class=\"dataframe\">\n",
       "  <thead>\n",
       "    <tr style=\"text-align: right;\">\n",
       "      <th></th>\n",
       "      <th>Author</th>\n",
       "      <th>Book</th>\n",
       "      <th>Genre</th>\n",
       "      <th>Year</th>\n",
       "      <th>Searching_Value</th>\n",
       "    </tr>\n",
       "  </thead>\n",
       "  <tbody>\n",
       "    <tr>\n",
       "      <th>0</th>\n",
       "      <td>Warwick Deeping</td>\n",
       "      <td>The Ten Commandments</td>\n",
       "      <td>fiction</td>\n",
       "      <td>1931</td>\n",
       "      <td>The Ten Commandments Warwick Deeping</td>\n",
       "    </tr>\n",
       "    <tr>\n",
       "      <th>1</th>\n",
       "      <td>John Galsworthy</td>\n",
       "      <td>Maid in Waiting</td>\n",
       "      <td>fiction</td>\n",
       "      <td>1931</td>\n",
       "      <td>Maid in Waiting John Galsworthy</td>\n",
       "    </tr>\n",
       "    <tr>\n",
       "      <th>2</th>\n",
       "      <td>William McFee</td>\n",
       "      <td>The Harbourmaster</td>\n",
       "      <td>fiction</td>\n",
       "      <td>1932</td>\n",
       "      <td>The Harbourmaster William McFee</td>\n",
       "    </tr>\n",
       "    <tr>\n",
       "      <th>3</th>\n",
       "      <td>Francis Brett Young</td>\n",
       "      <td>Mr. and Mrs. Pennington</td>\n",
       "      <td>fiction</td>\n",
       "      <td>1932</td>\n",
       "      <td>Mr. and Mrs. Pennington Francis Brett Young</td>\n",
       "    </tr>\n",
       "    <tr>\n",
       "      <th>4</th>\n",
       "      <td>Robert Herrick</td>\n",
       "      <td>The End of Desire</td>\n",
       "      <td>fiction</td>\n",
       "      <td>1932</td>\n",
       "      <td>The End of Desire Robert Herrick</td>\n",
       "    </tr>\n",
       "  </tbody>\n",
       "</table>\n",
       "</div>"
      ],
      "text/plain": [
       "                Author                     Book    Genre  Year  \\\n",
       "0      Warwick Deeping     The Ten Commandments  fiction  1931   \n",
       "1      John Galsworthy          Maid in Waiting  fiction  1931   \n",
       "2        William McFee        The Harbourmaster  fiction  1932   \n",
       "3  Francis Brett Young  Mr. and Mrs. Pennington  fiction  1932   \n",
       "4       Robert Herrick        The End of Desire  fiction  1932   \n",
       "\n",
       "                               Searching_Value  \n",
       "0         The Ten Commandments Warwick Deeping  \n",
       "1              Maid in Waiting John Galsworthy  \n",
       "2              The Harbourmaster William McFee  \n",
       "3  Mr. and Mrs. Pennington Francis Brett Young  \n",
       "4             The End of Desire Robert Herrick  "
      ]
     },
     "execution_count": 27,
     "metadata": {},
     "output_type": "execute_result"
    }
   ],
   "source": [
    "# check the result\n",
    "file_new.head()"
   ]
  },
  {
   "cell_type": "code",
   "execution_count": 28,
   "id": "closed-iceland",
   "metadata": {},
   "outputs": [],
   "source": [
    "# 2\n",
    "# Replace empty space with +\n",
    "file_new['Searching_Value2'] = file_new['Searching_Value'].str.replace(\" \", \"+\")"
   ]
  },
  {
   "cell_type": "code",
   "execution_count": 29,
   "id": "appropriate-kenya",
   "metadata": {},
   "outputs": [
    {
     "data": {
      "text/html": [
       "<div>\n",
       "<style scoped>\n",
       "    .dataframe tbody tr th:only-of-type {\n",
       "        vertical-align: middle;\n",
       "    }\n",
       "\n",
       "    .dataframe tbody tr th {\n",
       "        vertical-align: top;\n",
       "    }\n",
       "\n",
       "    .dataframe thead th {\n",
       "        text-align: right;\n",
       "    }\n",
       "</style>\n",
       "<table border=\"1\" class=\"dataframe\">\n",
       "  <thead>\n",
       "    <tr style=\"text-align: right;\">\n",
       "      <th></th>\n",
       "      <th>Author</th>\n",
       "      <th>Book</th>\n",
       "      <th>Genre</th>\n",
       "      <th>Year</th>\n",
       "      <th>Searching_Value</th>\n",
       "      <th>Searching_Value2</th>\n",
       "    </tr>\n",
       "  </thead>\n",
       "  <tbody>\n",
       "    <tr>\n",
       "      <th>0</th>\n",
       "      <td>Warwick Deeping</td>\n",
       "      <td>The Ten Commandments</td>\n",
       "      <td>fiction</td>\n",
       "      <td>1931</td>\n",
       "      <td>The Ten Commandments Warwick Deeping</td>\n",
       "      <td>The+Ten+Commandments+Warwick+Deeping</td>\n",
       "    </tr>\n",
       "    <tr>\n",
       "      <th>1</th>\n",
       "      <td>John Galsworthy</td>\n",
       "      <td>Maid in Waiting</td>\n",
       "      <td>fiction</td>\n",
       "      <td>1931</td>\n",
       "      <td>Maid in Waiting John Galsworthy</td>\n",
       "      <td>Maid+in+Waiting+John+Galsworthy</td>\n",
       "    </tr>\n",
       "    <tr>\n",
       "      <th>2</th>\n",
       "      <td>William McFee</td>\n",
       "      <td>The Harbourmaster</td>\n",
       "      <td>fiction</td>\n",
       "      <td>1932</td>\n",
       "      <td>The Harbourmaster William McFee</td>\n",
       "      <td>The+Harbourmaster+William+McFee</td>\n",
       "    </tr>\n",
       "    <tr>\n",
       "      <th>3</th>\n",
       "      <td>Francis Brett Young</td>\n",
       "      <td>Mr. and Mrs. Pennington</td>\n",
       "      <td>fiction</td>\n",
       "      <td>1932</td>\n",
       "      <td>Mr. and Mrs. Pennington Francis Brett Young</td>\n",
       "      <td>Mr.+and+Mrs.+Pennington+Francis+Brett+Young</td>\n",
       "    </tr>\n",
       "    <tr>\n",
       "      <th>4</th>\n",
       "      <td>Robert Herrick</td>\n",
       "      <td>The End of Desire</td>\n",
       "      <td>fiction</td>\n",
       "      <td>1932</td>\n",
       "      <td>The End of Desire Robert Herrick</td>\n",
       "      <td>The+End+of+Desire+Robert+Herrick</td>\n",
       "    </tr>\n",
       "  </tbody>\n",
       "</table>\n",
       "</div>"
      ],
      "text/plain": [
       "                Author                     Book    Genre  Year  \\\n",
       "0      Warwick Deeping     The Ten Commandments  fiction  1931   \n",
       "1      John Galsworthy          Maid in Waiting  fiction  1931   \n",
       "2        William McFee        The Harbourmaster  fiction  1932   \n",
       "3  Francis Brett Young  Mr. and Mrs. Pennington  fiction  1932   \n",
       "4       Robert Herrick        The End of Desire  fiction  1932   \n",
       "\n",
       "                               Searching_Value  \\\n",
       "0         The Ten Commandments Warwick Deeping   \n",
       "1              Maid in Waiting John Galsworthy   \n",
       "2              The Harbourmaster William McFee   \n",
       "3  Mr. and Mrs. Pennington Francis Brett Young   \n",
       "4             The End of Desire Robert Herrick   \n",
       "\n",
       "                              Searching_Value2  \n",
       "0         The+Ten+Commandments+Warwick+Deeping  \n",
       "1              Maid+in+Waiting+John+Galsworthy  \n",
       "2              The+Harbourmaster+William+McFee  \n",
       "3  Mr.+and+Mrs.+Pennington+Francis+Brett+Young  \n",
       "4             The+End+of+Desire+Robert+Herrick  "
      ]
     },
     "execution_count": 29,
     "metadata": {},
     "output_type": "execute_result"
    }
   ],
   "source": [
    "file_new.head()"
   ]
  },
  {
   "cell_type": "markdown",
   "id": "strange-lightweight",
   "metadata": {},
   "source": [
    "### 2.9 Create a new csv_file for the Step3 - Web Scraping the ISBN"
   ]
  },
  {
   "cell_type": "code",
   "execution_count": 30,
   "id": "certified-tactics",
   "metadata": {},
   "outputs": [],
   "source": [
    "# inactive because web scraping on AMZ does not work \n",
    "# file_new.to_excel(\"NYT_bestseller_Step_3.xlsx\")"
   ]
  },
  {
   "cell_type": "markdown",
   "id": "seventh-examination",
   "metadata": {},
   "source": [
    "### Additional information"
   ]
  },
  {
   "cell_type": "markdown",
   "id": "vocational-oxygen",
   "metadata": {},
   "source": [
    "After the start of Step 3. It was not possible to scrape the informations from Amazon. Amazon blocked the web scraping. So I use datat search to find additional files to fill the gap. The file that I found starts with the year 2009."
   ]
  },
  {
   "cell_type": "markdown",
   "id": "written-screw",
   "metadata": {},
   "source": [
    "### 2.9.1 Reducing the datatset\n",
    "On Kaggle are datasets about bestseller books for the years 2009 to 2020. So the dataset of file_new will reduce. The years < 2009 will delete."
   ]
  },
  {
   "cell_type": "code",
   "execution_count": 31,
   "id": "through-thing",
   "metadata": {},
   "outputs": [],
   "source": [
    "file_new = file_new.drop(file_new[file_new.Year < 2009].index)"
   ]
  },
  {
   "cell_type": "code",
   "execution_count": 32,
   "id": "lonely-scholarship",
   "metadata": {},
   "outputs": [
    {
     "name": "stdout",
     "output_type": "stream",
     "text": [
      "<class 'pandas.core.frame.DataFrame'>\n",
      "Int64Index: 580 entries, 601 to 1399\n",
      "Data columns (total 6 columns):\n",
      " #   Column            Non-Null Count  Dtype \n",
      "---  ------            --------------  ----- \n",
      " 0   Author            580 non-null    object\n",
      " 1   Book              580 non-null    object\n",
      " 2   Genre             580 non-null    object\n",
      " 3   Year              580 non-null    int64 \n",
      " 4   Searching_Value   580 non-null    object\n",
      " 5   Searching_Value2  580 non-null    object\n",
      "dtypes: int64(1), object(5)\n",
      "memory usage: 31.7+ KB\n"
     ]
    }
   ],
   "source": [
    "# check the results\n",
    "file_new.info()"
   ]
  },
  {
   "cell_type": "code",
   "execution_count": 33,
   "id": "hearing-township",
   "metadata": {},
   "outputs": [],
   "source": [
    "# the columns Searching_Value and Searching_Value2 will not needed -> delete this columns\n",
    "file_new = file_new.drop(columns=[\"Searching_Value\", \"Searching_Value2\"])"
   ]
  },
  {
   "cell_type": "code",
   "execution_count": 34,
   "id": "billion-prophet",
   "metadata": {},
   "outputs": [],
   "source": [
    "file_new.reset_index(inplace = True)"
   ]
  },
  {
   "cell_type": "code",
   "execution_count": 35,
   "id": "specific-tenant",
   "metadata": {},
   "outputs": [],
   "source": [
    "# create a new csv_file\n",
    "file_new.to_excel(\"NYT_bestseller_reduce_dataset.xlsx\")"
   ]
  },
  {
   "cell_type": "markdown",
   "id": "thermal-disclosure",
   "metadata": {},
   "source": [
    "-> Step 3 is failed. So please go to **Step 4**. Thank you"
   ]
  },
  {
   "cell_type": "code",
   "execution_count": null,
   "id": "aggregate-provision",
   "metadata": {},
   "outputs": [],
   "source": []
  }
 ],
 "metadata": {
  "kernelspec": {
   "display_name": "Python 3",
   "language": "python",
   "name": "python3"
  },
  "language_info": {
   "codemirror_mode": {
    "name": "ipython",
    "version": 3
   },
   "file_extension": ".py",
   "mimetype": "text/x-python",
   "name": "python",
   "nbconvert_exporter": "python",
   "pygments_lexer": "ipython3",
   "version": "3.9.2"
  }
 },
 "nbformat": 4,
 "nbformat_minor": 5
}
